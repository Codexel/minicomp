{
 "cells": [
  {
   "cell_type": "markdown",
   "metadata": {},
   "source": [
    "## Experimental notebook\n",
    "\n",
    "This is a notebook where we experimented with different feature combinations. It's not part of the competition submission."
   ]
  },
  {
   "cell_type": "code",
   "execution_count": 1,
   "metadata": {},
   "outputs": [],
   "source": [
    "import pandas as pd\n",
    "import numpy as np\n",
    "import matplotlib.pyplot as plt\n",
    "import datetime"
   ]
  },
  {
   "cell_type": "code",
   "execution_count": 2,
   "metadata": {},
   "outputs": [],
   "source": [
    "def metric(preds, actuals):\n",
    "    preds = preds.reshape(-1)\n",
    "    actuals = actuals.reshape(-1)\n",
    "    assert preds.shape == actuals.shape\n",
    "    return 100 * np.linalg.norm((actuals - preds) / actuals) / np.sqrt(preds.shape[0])\n",
    "\n",
    "def get_score(actuals, preds):\n",
    "    new_test= pd.DataFrame({'Actuals': actuals,'Preds': preds})\n",
    "    new_test = new_test.loc[new_test['Actuals'] != 0,:]\n",
    "    return metric(np.array(new_test['Actuals']), np.array(new_test['Preds']))\n",
    "\n",
    "def mean_encoder(df, col, target = 'Sales'):\n",
    "    Mean_encoded_subject = df.groupby([col])[target].mean().to_dict() \n",
    "    return df[col].map(Mean_encoded_subject)"
   ]
  },
  {
   "cell_type": "markdown",
   "metadata": {},
   "source": [
    "## Dirty Data Imports (don't run)"
   ]
  },
  {
   "cell_type": "code",
   "execution_count": 3,
   "metadata": {},
   "outputs": [],
   "source": [
    "# train = pd.read_csv('data/train.csv', parse_dates = True)\n",
    "# stores = pd.read_csv('data/store.csv')"
   ]
  },
  {
   "cell_type": "markdown",
   "metadata": {},
   "source": [
    "## Clean Data imports (run these!)"
   ]
  },
  {
   "cell_type": "code",
   "execution_count": 4,
   "metadata": {},
   "outputs": [
    {
     "name": "stderr",
     "output_type": "stream",
     "text": [
      "/opt/anaconda3/envs/minicomp/lib/python3.8/site-packages/IPython/core/interactiveshell.py:3145: DtypeWarning: Columns (7) have mixed types.Specify dtype option on import or set low_memory=False.\n",
      "  has_raised = await self.run_ast_nodes(code_ast.body, cell_name,\n"
     ]
    }
   ],
   "source": [
    "no_null_sales = pd.read_csv('clean_data.csv', parse_dates = True)\n",
    "stores = pd.read_csv('stores_light.csv')"
   ]
  },
  {
   "cell_type": "markdown",
   "metadata": {},
   "source": [
    "## Base cleaning (don't run)"
   ]
  },
  {
   "cell_type": "code",
   "execution_count": 5,
   "metadata": {
    "scrolled": true
   },
   "outputs": [],
   "source": [
    "# fillna_storetype_a = stores.groupby('StoreType').median().loc['a', 'CompetitionDistance']\n",
    "# fillna_storetype_b = stores.groupby('StoreType').median().loc['b', 'CompetitionDistance']\n",
    "# fillna_storetype_c = stores.groupby('StoreType').median().loc['c', 'CompetitionDistance']\n",
    "# fillna_storetype_d = stores.groupby('StoreType').median().loc['d', 'CompetitionDistance']\n",
    "# stores.loc[(stores['CompetitionDistance'].isnull()) & (stores.loc[:,'StoreType'] == 'a')] = fillna_storetype_a\n",
    "# stores.loc[(stores['CompetitionDistance'].isnull()) & (stores.loc[:,'StoreType'] == 'b')] = fillna_storetype_b\n",
    "# stores.loc[(stores['CompetitionDistance'].isnull()) & (stores.loc[:,'StoreType'] == 'c')] = fillna_storetype_c\n",
    "# stores.loc[(stores['CompetitionDistance'].isnull()) & (stores.loc[:,'StoreType'] == 'd')] = fillna_storetype_d\n",
    "\n",
    "# train.loc[(train.loc[:, 'Sales'].isnull()) & (train['Open'] == 0), 'Sales'] = 0\n",
    "# train.loc[(train.loc[:, 'Sales'].isnull()) & (train['Customers'] == 0), 'Sales'] = 0\n",
    "\n",
    "# train.loc[(train.loc[:, 'Customers'].isnull()) & (train['Sales'] == 0), 'Customers'] = 0\n",
    "\n",
    "# no_null_sales = train.loc[(train['Sales'].notnull()) | (train['Open'] == 0), :]\n",
    "# no_null_sales.loc[:,'Sales'].fillna(0, inplace=True)\n",
    "\n",
    "# no_null_sales = no_null_sales.loc[no_null_sales['Store'].notnull(), :]\n",
    "\n",
    "# no_null_sales.loc[:,'Date'] = pd.to_datetime(no_null_sales.loc[:,'Date'], format='%Y-%m-%d')\n",
    "# no_null_sales.loc[:,'DayOfWeek'] = no_null_sales.loc[:,'Date'].dt.weekday + 1\n",
    "\n",
    "# no_null_sales.loc[no_null_sales['StateHoliday'] == 0.0, 'StateHoliday'] = '0'\n",
    "# no_null_sales.loc[no_null_sales['StateHoliday'] == 0, 'StateHoliday'] = '0'\n",
    "\n",
    "# no_null_sales.loc[(no_null_sales['Open'].isnull()) & (no_null_sales['Sales'] == 0),'Open'] = 0\n",
    "# no_null_sales.loc[(no_null_sales['Open'].isnull()) & (no_null_sales['Sales'] > 0),'Open'] = 1"
   ]
  },
  {
   "cell_type": "markdown",
   "metadata": {},
   "source": [
    "## Baseline 1"
   ]
  },
  {
   "cell_type": "code",
   "execution_count": 6,
   "metadata": {},
   "outputs": [
    {
     "data": {
      "text/plain": [
       "40.58064127185794"
      ]
     },
     "execution_count": 6,
     "metadata": {},
     "output_type": "execute_result"
    }
   ],
   "source": [
    "X = no_null_sales[['Store']]\n",
    "y = no_null_sales['Sales']\n",
    "from sklearn.model_selection import train_test_split\n",
    "X_train,X_test,y_train,y_test = train_test_split(X,y,test_size=0.2,random_state=42)\n",
    "lazy_est = pd.concat([X_train, y_train], axis=1)\n",
    "lazy_est = lazy_est.groupby(['Store']).mean()\n",
    "preds = X_test.merge(lazy_est, how = 'left', on = 'Store').loc[:, 'Sales']\n",
    "actuals = np.array(y_test)\n",
    "get_score(actuals, preds)"
   ]
  },
  {
   "cell_type": "markdown",
   "metadata": {},
   "source": [
    "## Baseline 2"
   ]
  },
  {
   "cell_type": "code",
   "execution_count": 7,
   "metadata": {},
   "outputs": [
    {
     "data": {
      "text/plain": [
       "25.42650037519698"
      ]
     },
     "execution_count": 7,
     "metadata": {},
     "output_type": "execute_result"
    }
   ],
   "source": [
    "X = no_null_sales[['Store', 'DayOfWeek']]\n",
    "y = no_null_sales['Sales']\n",
    "from sklearn.model_selection import train_test_split\n",
    "X_train,X_test,y_train,y_test = train_test_split(X,y,test_size=0.2,random_state=42)\n",
    "lazy_est = pd.concat([X_train, y_train], axis=1)\n",
    "lazy_est = lazy_est.groupby(['Store', 'DayOfWeek']).mean()\n",
    "preds = X_test.merge(lazy_est, how = 'left', on = ['Store', 'DayOfWeek']).loc[:, 'Sales']\n",
    "actuals = np.array(y_test)\n",
    "get_score(actuals, preds)"
   ]
  },
  {
   "cell_type": "markdown",
   "metadata": {},
   "source": [
    "## Baseline 3"
   ]
  },
  {
   "cell_type": "code",
   "execution_count": 8,
   "metadata": {},
   "outputs": [
    {
     "data": {
      "text/plain": [
       "23.438336545019375"
      ]
     },
     "execution_count": 8,
     "metadata": {},
     "output_type": "execute_result"
    }
   ],
   "source": [
    "X = no_null_sales[['Store', 'DayOfWeek', 'Open']]\n",
    "y = no_null_sales['Sales']\n",
    "from sklearn.model_selection import train_test_split\n",
    "X_train,X_test,y_train,y_test = train_test_split(X,y,test_size=0.2,random_state=42)\n",
    "lazy_est = pd.concat([X_train, y_train], axis=1)\n",
    "lazy_est = lazy_est.groupby(['Store', 'DayOfWeek', 'Open']).mean()\n",
    "preds = X_test.merge(lazy_est, how = 'left', on = ['Store', 'DayOfWeek', 'Open']).loc[:, 'Sales']\n",
    "actuals = np.array(y_test)\n",
    "get_score(actuals, preds)"
   ]
  },
  {
   "cell_type": "markdown",
   "metadata": {},
   "source": [
    "## Further cleaning (don't run unless you're sure!)"
   ]
  },
  {
   "cell_type": "code",
   "execution_count": 9,
   "metadata": {},
   "outputs": [],
   "source": [
    "#WILL TAKE 30 MINS TO RUN!!!!!!\n",
    "#Slow and ugly way to fill in NaNs with the mode\n",
    "holiday_nulls = no_null_sales.loc[no_null_sales['StateHoliday'].isnull()]\n",
    "for i, row in holiday_nulls.iterrows():\n",
    "    date = str(row['Date'])\n",
    "    mode = no_null_sales.loc[no_null_sales['Date'] == date, 'StateHoliday'].mode()[0]\n",
    "    no_null_sales.loc[i, 'StateHoliday'] = mode\n",
    "    \n",
    "holiday_nulls = no_null_sales.loc[no_null_sales['SchoolHoliday'].isnull()]\n",
    "for i, row in holiday_nulls.iterrows():\n",
    "    date = str(row['Date'])\n",
    "    mode = no_null_sales.loc[no_null_sales['Date'] == date, 'SchoolHoliday'].mode()[0]\n",
    "    no_null_sales.loc[i, 'SchoolHoliday'] = mode"
   ]
  },
  {
   "cell_type": "code",
   "execution_count": 10,
   "metadata": {},
   "outputs": [],
   "source": [
    "customer_means = no_null_sales.groupby(['Store', 'DayOfWeek']).mean()['Customers']\n",
    "\n",
    "customer_nulls = no_null_sales.loc[no_null_sales['Customers'].isnull()]\n",
    "for i, row in customer_nulls.iterrows():\n",
    "    store = row['Store']\n",
    "    DayOfWeek = row['DayOfWeek']\n",
    "    mean = customer_means.loc[store, DayOfWeek]\n",
    "    no_null_sales.loc[i, 'Customers'] = mean"
   ]
  },
  {
   "cell_type": "code",
   "execution_count": 11,
   "metadata": {},
   "outputs": [],
   "source": [
    "no_null_sales.reset_index(inplace = True, drop = True)\n",
    "\n",
    "null_promo = no_null_sales.loc[no_null_sales['Promo'].isnull()]\n",
    "\n",
    "for i, row in null_promo.iterrows():\n",
    "    above_and_below = no_null_sales.loc[i-1, 'Promo'] + no_null_sales.loc[i+1, 'Promo']\n",
    "    if above_and_below == 2:\n",
    "        no_null_sales.loc[i, 'Promo'] = 1\n",
    "    elif above_and_below == 0:\n",
    "        no_null_sales.loc[i, 'Promo'] = 0\n",
    "        \n",
    "null_promo = no_null_sales.loc[no_null_sales['Promo'].isnull()]\n",
    "\n",
    "for i, row in null_promo.iterrows():\n",
    "    date = str(row['Date'])\n",
    "    mean = no_null_sales.groupby('Date').mean().loc[date, 'Promo']\n",
    "    if mean > 0.9:\n",
    "        no_null_sales.loc[i, 'Promo'] = 1\n",
    "    else:\n",
    "        no_null_sales.loc[i, 'Promo'] = 0"
   ]
  },
  {
   "cell_type": "markdown",
   "metadata": {},
   "source": [
    "## Random Forest 1st attempt"
   ]
  },
  {
   "cell_type": "code",
   "execution_count": 12,
   "metadata": {},
   "outputs": [
    {
     "data": {
      "text/plain": [
       "23.732235548760748"
      ]
     },
     "execution_count": 12,
     "metadata": {},
     "output_type": "execute_result"
    }
   ],
   "source": [
    "rf_set = no_null_sales.drop(['Date', 'Customers', 'SchoolHoliday', 'Promo'], axis = 1)\n",
    "rf_set.loc[:,'StateHoliday'] = rf_set.loc[:,'StateHoliday'].apply(lambda x: 0 if x=='0' else 1)\n",
    "X = rf_set.drop('Sales', axis = 1)\n",
    "y = rf_set['Sales']\n",
    "from sklearn.model_selection import train_test_split\n",
    "X_train,X_test,y_train,y_test = train_test_split(X,y,test_size=0.2,random_state=42)\n",
    "\n",
    "from sklearn.ensemble import RandomForestRegressor\n",
    "rf = RandomForestRegressor()\n",
    "rf.fit(X_train, y_train)\n",
    "preds = rf.predict(X_test)\n",
    "actuals = np.array(y_test)\n",
    "get_score(actuals, preds)"
   ]
  },
  {
   "cell_type": "markdown",
   "metadata": {},
   "source": [
    "## 20 % sample experiments"
   ]
  },
  {
   "cell_type": "code",
   "execution_count": 13,
   "metadata": {},
   "outputs": [],
   "source": [
    "sample = no_null_sales.sample(frac = 0.2, random_state = 42)"
   ]
  },
  {
   "cell_type": "code",
   "execution_count": 14,
   "metadata": {},
   "outputs": [
    {
     "data": {
      "text/plain": [
       "25.443833860208215"
      ]
     },
     "execution_count": 14,
     "metadata": {},
     "output_type": "execute_result"
    }
   ],
   "source": [
    "# Without promo\n",
    "\n",
    "rf_set = sample.drop(['Date', 'Customers', 'SchoolHoliday', 'Promo'], axis = 1)\n",
    "rf_set.loc[:,'StateHoliday'] = rf_set.loc[:,'StateHoliday'].apply(lambda x: 0 if x=='0' else 1)\n",
    "X = rf_set.drop('Sales', axis = 1)\n",
    "y = rf_set['Sales']\n",
    "from sklearn.model_selection import train_test_split\n",
    "X_train,X_test,y_train,y_test = train_test_split(X,y,test_size=0.2,random_state=42)\n",
    "\n",
    "from sklearn.ensemble import RandomForestRegressor\n",
    "rf = RandomForestRegressor()\n",
    "rf.fit(X_train, y_train)\n",
    "preds = rf.predict(X_test)\n",
    "actuals = np.array(y_test)\n",
    "get_score(actuals, preds)"
   ]
  },
  {
   "cell_type": "code",
   "execution_count": 15,
   "metadata": {},
   "outputs": [
    {
     "data": {
      "text/plain": [
       "19.58039458157083"
      ]
     },
     "execution_count": 15,
     "metadata": {},
     "output_type": "execute_result"
    }
   ],
   "source": [
    "#With Promo\n",
    "\n",
    "rf_set = sample.drop(['Date', 'Customers', 'SchoolHoliday'], axis = 1)\n",
    "rf_set.loc[:,'StateHoliday'] = rf_set.loc[:,'StateHoliday'].apply(lambda x: 0 if x=='0' else 1)\n",
    "X = rf_set.drop('Sales', axis = 1)\n",
    "y = rf_set['Sales']\n",
    "from sklearn.model_selection import train_test_split\n",
    "X_train,X_test,y_train,y_test = train_test_split(X,y,test_size=0.2,random_state=42)\n",
    "\n",
    "from sklearn.ensemble import RandomForestRegressor\n",
    "rf = RandomForestRegressor()\n",
    "rf.fit(X_train, y_train)\n",
    "preds = rf.predict(X_test)\n",
    "actuals = np.array(y_test)\n",
    "get_score(actuals, preds)"
   ]
  },
  {
   "cell_type": "code",
   "execution_count": 16,
   "metadata": {},
   "outputs": [
    {
     "data": {
      "text/plain": [
       "19.823696569594205"
      ]
     },
     "execution_count": 16,
     "metadata": {},
     "output_type": "execute_result"
    }
   ],
   "source": [
    "##With School holiday\n",
    "\n",
    "rf_set = sample.drop(['Date', 'Customers'], axis = 1)\n",
    "rf_set.loc[:,'StateHoliday'] = rf_set.loc[:,'StateHoliday'].apply(lambda x: 0 if x=='0' else 1)\n",
    "X = rf_set.drop('Sales', axis = 1)\n",
    "y = rf_set['Sales']\n",
    "from sklearn.model_selection import train_test_split\n",
    "X_train,X_test,y_train,y_test = train_test_split(X,y,test_size=0.2,random_state=42)\n",
    "\n",
    "from sklearn.ensemble import RandomForestRegressor\n",
    "rf = RandomForestRegressor()\n",
    "rf.fit(X_train, y_train)\n",
    "preds = rf.predict(X_test)\n",
    "actuals = np.array(y_test)\n",
    "get_score(actuals, preds)"
   ]
  },
  {
   "cell_type": "code",
   "execution_count": 21,
   "metadata": {},
   "outputs": [],
   "source": [
    "sample['Date'] = pd.to_datetime(sample['Date'])"
   ]
  },
  {
   "cell_type": "code",
   "execution_count": 22,
   "metadata": {},
   "outputs": [
    {
     "name": "stderr",
     "output_type": "stream",
     "text": [
      "<ipython-input-22-fbdd7e3ba0cf>:2: FutureWarning: Series.dt.weekofyear and Series.dt.week have been deprecated.  Please use Series.dt.isocalendar().week instead.\n",
      "  sample['Week'] = sample['Date'].dt.week\n"
     ]
    }
   ],
   "source": [
    "sample['Month'] = sample['Date'].dt.month\n",
    "sample['Week'] = sample['Date'].dt.week"
   ]
  },
  {
   "cell_type": "code",
   "execution_count": 23,
   "metadata": {},
   "outputs": [
    {
     "data": {
      "text/plain": [
       "21.639495155361388"
      ]
     },
     "execution_count": 23,
     "metadata": {},
     "output_type": "execute_result"
    }
   ],
   "source": [
    "#With Month (tried both with and without mean encoder, neither was good)\n",
    "rf_set = sample.drop(['Date', 'Customers', 'SchoolHoliday', 'Week'], axis = 1)\n",
    "rf_set['Month'] = mean_encoder(rf_set, 'Month')\n",
    "rf_set.loc[:,'StateHoliday'] = rf_set.loc[:,'StateHoliday'].apply(lambda x: 0 if x=='0' else 1)\n",
    "X = rf_set.drop('Sales', axis = 1)\n",
    "y = rf_set['Sales']\n",
    "from sklearn.model_selection import train_test_split\n",
    "X_train,X_test,y_train,y_test = train_test_split(X,y,test_size=0.2,random_state=42)\n",
    "\n",
    "from sklearn.ensemble import RandomForestRegressor\n",
    "rf = RandomForestRegressor()\n",
    "rf.fit(X_train, y_train)\n",
    "preds = rf.predict(X_test)\n",
    "actuals = np.array(y_test)\n",
    "get_score(actuals, preds)"
   ]
  },
  {
   "cell_type": "code",
   "execution_count": 24,
   "metadata": {},
   "outputs": [
    {
     "data": {
      "text/plain": [
       "24.62553299664485"
      ]
     },
     "execution_count": 24,
     "metadata": {},
     "output_type": "execute_result"
    }
   ],
   "source": [
    "#With Week (tried both with and without mean encoder, neither was good)\n",
    "rf_set = sample.drop(['Date', 'Customers', 'SchoolHoliday', 'Month'], axis = 1)\n",
    "rf_set['Week'] = mean_encoder(rf_set, 'Week')\n",
    "rf_set.loc[:,'StateHoliday'] = rf_set.loc[:,'StateHoliday'].apply(lambda x: 0 if x=='0' else 1)\n",
    "X = rf_set.drop('Sales', axis = 1)\n",
    "y = rf_set['Sales']\n",
    "from sklearn.model_selection import train_test_split\n",
    "X_train,X_test,y_train,y_test = train_test_split(X,y,test_size=0.2,random_state=42)\n",
    "\n",
    "from sklearn.ensemble import RandomForestRegressor\n",
    "rf = RandomForestRegressor()\n",
    "rf.fit(X_train, y_train)\n",
    "preds = rf.predict(X_test)\n",
    "actuals = np.array(y_test)\n",
    "get_score(actuals, preds)"
   ]
  },
  {
   "cell_type": "code",
   "execution_count": 25,
   "metadata": {},
   "outputs": [
    {
     "data": {
      "text/plain": [
       "20.07700260504653"
      ]
     },
     "execution_count": 25,
     "metadata": {},
     "output_type": "execute_result"
    }
   ],
   "source": [
    "rf_set = sample.drop(['Date', 'Customers', 'SchoolHoliday', 'Week'], axis = 1)\n",
    "rf_set.loc[rf_set['Month'] != 12, 'Month'] = 0\n",
    "rf_set.loc[rf_set['Month'] == 12, 'Month'] = 1\n",
    "rf_set.loc[:,'StateHoliday'] = rf_set.loc[:,'StateHoliday'].apply(lambda x: 0 if x=='0' else 1)\n",
    "X = rf_set.drop('Sales', axis = 1)\n",
    "y = rf_set['Sales']\n",
    "from sklearn.model_selection import train_test_split\n",
    "X_train,X_test,y_train,y_test = train_test_split(X,y,test_size=0.2,random_state=42)\n",
    "\n",
    "from sklearn.ensemble import RandomForestRegressor\n",
    "rf = RandomForestRegressor()\n",
    "rf.fit(X_train, y_train)\n",
    "preds = rf.predict(X_test)\n",
    "actuals = np.array(y_test)\n",
    "get_score(actuals, preds)"
   ]
  },
  {
   "cell_type": "code",
   "execution_count": 26,
   "metadata": {},
   "outputs": [
    {
     "data": {
      "text/plain": [
       "19.557116160542776"
      ]
     },
     "execution_count": 26,
     "metadata": {},
     "output_type": "execute_result"
    }
   ],
   "source": [
    "#Store mean-encoded\n",
    "\n",
    "rf_set = sample.drop(['Date', 'Customers', 'SchoolHoliday', 'Month', 'Week'], axis = 1)\n",
    "rf_set['Store'] = mean_encoder(rf_set, 'Store')\n",
    "rf_set.loc[:,'StateHoliday'] = rf_set.loc[:,'StateHoliday'].apply(lambda x: 0 if x=='0' else 1)\n",
    "X = rf_set.drop('Sales', axis = 1)\n",
    "y = rf_set['Sales']\n",
    "from sklearn.model_selection import train_test_split\n",
    "X_train,X_test,y_train,y_test = train_test_split(X,y,test_size=0.2,random_state=42)\n",
    "\n",
    "from sklearn.ensemble import RandomForestRegressor\n",
    "rf = RandomForestRegressor()\n",
    "rf.fit(X_train, y_train)\n",
    "preds = rf.predict(X_test)\n",
    "actuals = np.array(y_test)\n",
    "get_score(actuals, preds)"
   ]
  },
  {
   "cell_type": "code",
   "execution_count": 27,
   "metadata": {},
   "outputs": [
    {
     "data": {
      "text/plain": [
       "19.551302083751867"
      ]
     },
     "execution_count": 27,
     "metadata": {},
     "output_type": "execute_result"
    }
   ],
   "source": [
    "#State-Holiday mean-encoded\n",
    "\n",
    "rf_set = sample.drop(['Date', 'Customers', 'SchoolHoliday', 'Month', 'Week'], axis = 1)\n",
    "rf_set['StateHoliday'] = mean_encoder(rf_set, 'StateHoliday')\n",
    "X = rf_set.drop('Sales', axis = 1)\n",
    "y = rf_set['Sales']\n",
    "from sklearn.model_selection import train_test_split\n",
    "X_train,X_test,y_train,y_test = train_test_split(X,y,test_size=0.2,random_state=42)\n",
    "\n",
    "from sklearn.ensemble import RandomForestRegressor\n",
    "rf = RandomForestRegressor()\n",
    "rf.fit(X_train, y_train)\n",
    "preds = rf.predict(X_test)\n",
    "actuals = np.array(y_test)\n",
    "get_score(actuals, preds)"
   ]
  },
  {
   "cell_type": "code",
   "execution_count": 28,
   "metadata": {},
   "outputs": [
    {
     "data": {
      "text/plain": [
       "19.551640670899317"
      ]
     },
     "execution_count": 28,
     "metadata": {},
     "output_type": "execute_result"
    }
   ],
   "source": [
    "#Weekday mean-encoded\n",
    "\n",
    "rf_set = sample.drop(['Date', 'Customers', 'SchoolHoliday', 'Month', 'Week'], axis = 1)\n",
    "rf_set['StateHoliday'] = mean_encoder(rf_set, 'StateHoliday')\n",
    "rf_set['DayOfWeek'] = mean_encoder(rf_set, 'DayOfWeek')\n",
    "X = rf_set.drop('Sales', axis = 1)\n",
    "y = rf_set['Sales']\n",
    "from sklearn.model_selection import train_test_split\n",
    "X_train,X_test,y_train,y_test = train_test_split(X,y,test_size=0.2,random_state=42)\n",
    "\n",
    "from sklearn.ensemble import RandomForestRegressor\n",
    "rf = RandomForestRegressor()\n",
    "rf.fit(X_train, y_train)\n",
    "preds = rf.predict(X_test)\n",
    "actuals = np.array(y_test)\n",
    "get_score(actuals, preds)"
   ]
  },
  {
   "cell_type": "code",
   "execution_count": 29,
   "metadata": {},
   "outputs": [],
   "source": [
    "# # DON'T RUN!!\n",
    "## Making dayBeforeHoliday feature, didn't help \n",
    "\n",
    "# aDay = datetime.timedelta(days = 1)\n",
    "\n",
    "# sample2 = no_null_sales.copy()\n",
    "# sample2.loc[:,'StateHoliday'] = sample2.loc[:,'StateHoliday'].apply(lambda x: 0 if x=='0' else 1)\n",
    "# mapping = sample2.groupby(['Date']).mean()['StateHoliday']\n",
    "# sample2.loc[:,'DayBeforeHoliday'] = 0\n",
    "# for i, row in sample2.iterrows():\n",
    "#     if i == 0:\n",
    "#         print('Hi!')\n",
    "#     else:\n",
    "#         date1 = str(row['Date'])\n",
    "#         date2 = str(row['Date'] + aDay)\n",
    "#         if mapping.loc[date2] > 0.5 and mapping.loc[date1] == 0:\n",
    "#             sample2.loc[i, 'DayBeforeHoliday'] = 1"
   ]
  },
  {
   "cell_type": "code",
   "execution_count": 32,
   "metadata": {},
   "outputs": [],
   "source": [
    "# #With DayBeforeHoliday\n",
    "\n",
    "# with_dbh = sample2.sample(frac = 0.2, random_state = 42)\n",
    "\n",
    "# rf_set = with_dbh.drop(['Date', 'Customers', 'SchoolHoliday'], axis = 1)\n",
    "# rf_set['StateHoliday'] = mean_encoder(rf_set, 'StateHoliday')\n",
    "# X = rf_set.drop('Sales', axis = 1)\n",
    "# y = rf_set['Sales']\n",
    "# from sklearn.model_selection import train_test_split\n",
    "# X_train,X_test,y_train,y_test = train_test_split(X,y,test_size=0.2,random_state=42)\n",
    "\n",
    "# from sklearn.ensemble import RandomForestRegressor\n",
    "# rf = RandomForestRegressor()\n",
    "# rf.fit(X_train, y_train)\n",
    "# preds = rf.predict(X_test)\n",
    "# actuals = np.array(y_test)\n",
    "# get_score(actuals, preds)"
   ]
  },
  {
   "cell_type": "code",
   "execution_count": 31,
   "metadata": {},
   "outputs": [
    {
     "data": {
      "text/plain": [
       "21.88863399134336"
      ]
     },
     "execution_count": 31,
     "metadata": {},
     "output_type": "execute_result"
    }
   ],
   "source": [
    "#Date mean-encoded\n",
    "\n",
    "rf_set = sample.drop(['Customers', 'SchoolHoliday', 'Month', 'Week'], axis = 1)\n",
    "rf_set['StateHoliday'] = mean_encoder(rf_set, 'StateHoliday')\n",
    "rf_set['Date'] = mean_encoder(rf_set, 'Date')\n",
    "X = rf_set.drop('Sales', axis = 1)\n",
    "y = rf_set['Sales']\n",
    "from sklearn.model_selection import train_test_split\n",
    "X_train,X_test,y_train,y_test = train_test_split(X,y,test_size=0.2,random_state=42)\n",
    "\n",
    "from sklearn.ensemble import RandomForestRegressor\n",
    "rf = RandomForestRegressor()\n",
    "rf.fit(X_train, y_train)\n",
    "preds = rf.predict(X_test)\n",
    "actuals = np.array(y_test)\n",
    "get_score(actuals, preds)"
   ]
  }
 ],
 "metadata": {
  "kernelspec": {
   "display_name": "Python 3",
   "language": "python",
   "name": "python3"
  },
  "language_info": {
   "codemirror_mode": {
    "name": "ipython",
    "version": 3
   },
   "file_extension": ".py",
   "mimetype": "text/x-python",
   "name": "python",
   "nbconvert_exporter": "python",
   "pygments_lexer": "ipython3",
   "version": "3.8.5"
  }
 },
 "nbformat": 4,
 "nbformat_minor": 4
}
