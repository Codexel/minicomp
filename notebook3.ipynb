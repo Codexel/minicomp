{
 "cells": [
  {
   "cell_type": "code",
   "execution_count": 4,
   "metadata": {},
   "outputs": [],
   "source": [
    "import pandas as pd\n",
    "import numpy as np\n",
    "import matplotlib.pyplot as plt\n",
    "import datetime\n",
    "import seaborn as sns\n",
    "%matplotlib inline\n",
    "from sklearn.model_selection import train_test_split\n",
    "from sklearn.ensemble import RandomForestRegressor\n",
    "import xgboost as xgb"
   ]
  },
  {
   "cell_type": "code",
   "execution_count": 5,
   "metadata": {},
   "outputs": [],
   "source": [
    "def metric(preds, actuals):\n",
    "    preds = preds.reshape(-1)\n",
    "    actuals = actuals.reshape(-1)\n",
    "    assert preds.shape == actuals.shape\n",
    "    return 100 * np.linalg.norm((actuals - preds) / actuals) / np.sqrt(preds.shape[0])\n",
    "\n",
    "def test_da_shit(actuals, preds):\n",
    "    new_test= pd.DataFrame({'Actuals': actuals,'Preds': preds})\n",
    "    new_test = new_test.loc[new_test['Actuals'] != 0,:]\n",
    "    return metric(np.array(new_test['Actuals']), np.array(new_test['Preds']))\n",
    "\n",
    "def mean_encoder(df, col, target = 'Sales'):\n",
    "    Mean_encoded_subject = df.groupby([col])[target].mean().to_dict() \n",
    "    return df[col].map(Mean_encoded_subject)"
   ]
  },
  {
   "cell_type": "code",
   "execution_count": 8,
   "metadata": {},
   "outputs": [],
   "source": [
    "train = pd.read_csv('data/train.csv', parse_dates = True)\n",
    "stores = pd.read_csv('data/store.csv')"
   ]
  },
  {
   "cell_type": "code",
   "execution_count": 20,
   "metadata": {},
   "outputs": [],
   "source": [
    "full_raw = pd.merge(train, stores, how='outer', on='Store')"
   ]
  },
  {
   "cell_type": "code",
   "execution_count": 22,
   "metadata": {},
   "outputs": [
    {
     "name": "stderr",
     "output_type": "stream",
     "text": [
      "/opt/anaconda3/lib/python3.8/site-packages/pandas/core/indexing.py:671: SettingWithCopyWarning: \n",
      "A value is trying to be set on a copy of a slice from a DataFrame\n",
      "\n",
      "See the caveats in the documentation: https://pandas.pydata.org/pandas-docs/stable/user_guide/indexing.html#returning-a-view-versus-a-copy\n",
      "  self._setitem_with_indexer(indexer, value)\n"
     ]
    }
   ],
   "source": [
    "raw = full_raw.Open.loc[(full_raw.Sales == 0)] = 0\n",
    "raw = full_raw.Open.loc[(full_raw.Sales > 0)] = 1"
   ]
  },
  {
   "cell_type": "code",
   "execution_count": 26,
   "metadata": {},
   "outputs": [],
   "source": [
    "raw = full_raw.loc[~((full_raw.Sales.isnull()) | (full_raw.Store.isnull()))]"
   ]
  },
  {
   "cell_type": "code",
   "execution_count": 49,
   "metadata": {},
   "outputs": [
    {
     "name": "stderr",
     "output_type": "stream",
     "text": [
      "/opt/anaconda3/lib/python3.8/site-packages/pandas/core/generic.py:5303: SettingWithCopyWarning: \n",
      "A value is trying to be set on a copy of a slice from a DataFrame.\n",
      "Try using .loc[row_indexer,col_indexer] = value instead\n",
      "\n",
      "See the caveats in the documentation: https://pandas.pydata.org/pandas-docs/stable/user_guide/indexing.html#returning-a-view-versus-a-copy\n",
      "  self[name] = value\n"
     ]
    }
   ],
   "source": [
    "raw.Date = pd.to_datetime(raw.Date, format='%Y-%m-%d')\n",
    "raw.DayOfWeek = raw.Date.dt.weekday + 1"
   ]
  },
  {
   "cell_type": "code",
   "execution_count": 50,
   "metadata": {},
   "outputs": [],
   "source": [
    "raw_open = raw[~(raw.Open==0)]"
   ]
  },
  {
   "cell_type": "code",
   "execution_count": 51,
   "metadata": {},
   "outputs": [],
   "source": [
    "customer_means = raw_open.groupby(['Store', 'DayOfWeek']).mean()['Customers']\n",
    "customer_nulls = raw_open.loc[raw_open['Customers'].isnull()]\n",
    "for i, row in customer_nulls.iterrows():\n",
    "    store = row['Store']\n",
    "    DayOfWeek = row['DayOfWeek']\n",
    "    mean = customer_means.loc[store, DayOfWeek]\n",
    "    raw_open.loc[i, 'Customers'] = mean"
   ]
  },
  {
   "cell_type": "code",
   "execution_count": 52,
   "metadata": {},
   "outputs": [],
   "source": [
    "raw_open.reset_index(inplace = True, drop = True)\n",
    "null_promo = raw_open.loc[raw_open['Promo'].isnull()]\n",
    "\n",
    "for i, row in null_promo.iterrows():\n",
    "    above_and_below = raw_open.loc[i-1, 'Promo'] + raw_open.loc[i+1, 'Promo']\n",
    "    if above_and_below == 2:\n",
    "        raw_open.loc[i, 'Promo'] = 1\n",
    "    elif above_and_below == 0:\n",
    "        raw_open.loc[i, 'Promo'] = 0\n",
    "        \n",
    "null_promo = raw_open.loc[raw_open['Promo'].isnull()]\n",
    "\n",
    "for i, row in null_promo.iterrows():\n",
    "    date = str(row['Date'])\n",
    "    mean = raw_open.groupby('Date').mean().loc[date, 'Promo']\n",
    "    if mean > 0.9:\n",
    "        raw_open.loc[i, 'Promo'] = 1\n",
    "    else:\n",
    "        raw_open.loc[i, 'Promo'] = 0"
   ]
  },
  {
   "cell_type": "code",
   "execution_count": 53,
   "metadata": {},
   "outputs": [],
   "source": [
    "holiday_nulls = raw_open.loc[raw_open['StateHoliday'].isnull()]\n",
    "for i, row in holiday_nulls.iterrows():\n",
    "    date = str(row['Date'])\n",
    "    mode = raw_open.loc[raw_open['Date'] == date, 'StateHoliday'].mode()[0]\n",
    "    raw_open.loc[i, 'StateHoliday'] = mode\n",
    "    \n",
    "holiday_nulls = raw_open.loc[raw_open['SchoolHoliday'].isnull()]\n",
    "for i, row in holiday_nulls.iterrows():\n",
    "    date = str(row['Date'])\n",
    "    mode = raw_open.loc[raw_open['Date'] == date, 'SchoolHoliday'].mode()[0]\n",
    "    raw_open.loc[i, 'SchoolHoliday'] = mode"
   ]
  },
  {
   "cell_type": "code",
   "execution_count": 105,
   "metadata": {},
   "outputs": [],
   "source": [
    "clean_open_stores = raw_open.fillna(value=0)"
   ]
  },
  {
   "cell_type": "code",
   "execution_count": 106,
   "metadata": {},
   "outputs": [
    {
     "data": {
      "text/plain": [
       "23.534890461313807"
      ]
     },
     "execution_count": 106,
     "metadata": {},
     "output_type": "execute_result"
    }
   ],
   "source": [
    "# Baseline\n",
    "X = clean_open_stores[['Store', 'DayOfWeek']]\n",
    "y = clean_open_stores['Sales']\n",
    "X_train,X_test,y_train,y_test = train_test_split(X,y,test_size=0.2,random_state=42)\n",
    "lazy_est = pd.concat([X_train, y_train], axis=1)\n",
    "lazy_est = lazy_est.groupby(['Store', 'DayOfWeek']).mean()\n",
    "preds = X_test.merge(lazy_est, how = 'left', on = ['Store', 'DayOfWeek']).loc[:, 'Sales']\n",
    "actuals = np.array(y_test)\n",
    "test_da_shit(actuals, preds)"
   ]
  },
  {
   "cell_type": "code",
   "execution_count": 107,
   "metadata": {},
   "outputs": [
    {
     "name": "stderr",
     "output_type": "stream",
     "text": [
      "/opt/anaconda3/lib/python3.8/site-packages/pandas/core/indexing.py:671: SettingWithCopyWarning: \n",
      "A value is trying to be set on a copy of a slice from a DataFrame\n",
      "\n",
      "See the caveats in the documentation: https://pandas.pydata.org/pandas-docs/stable/user_guide/indexing.html#returning-a-view-versus-a-copy\n",
      "  self._setitem_with_indexer(indexer, value)\n"
     ]
    }
   ],
   "source": [
    "# Fixing the outlier (Store #817)\n",
    "clean_open_stores.Customers.loc[((clean_open_stores.Sales >= 20000) & (clean_open_stores.Customers >= 7000))] = clean_open_stores.loc[(clean_open_stores.Store == 817)].mean()['Customers']"
   ]
  },
  {
   "cell_type": "code",
   "execution_count": 109,
   "metadata": {},
   "outputs": [],
   "source": [
    "# Encoding Store Type 'b' vs not 'b'\n",
    "clean_open_stores.loc[(clean_open_stores['StoreType'] == 'b'),'StoreType'] = 1\n",
    "clean_open_stores.loc[((clean_open_stores['StoreType'] == 'a')\n",
    "                      |(clean_open_stores['StoreType'] == 'c')\n",
    "                      |(clean_open_stores['StoreType'] == 'd')),'StoreType'] = 0\n",
    "clean_open_stores.StoreType = clean_open_stores.StoreType.astype('int64', copy=False)"
   ]
  },
  {
   "cell_type": "code",
   "execution_count": 111,
   "metadata": {},
   "outputs": [],
   "source": [
    "# Encoding State Holidays\n",
    "clean_open_stores.loc[((clean_open_stores['StateHoliday'] == 0) | (clean_open_stores['StateHoliday'] == 0.0)),'StateHoliday'] = 0\n",
    "clean_open_stores.loc[((clean_open_stores['StateHoliday'] == 'a') | (clean_open_stores['StateHoliday'] == 'b') | (clean_open_stores['StateHoliday'] == 'c')),'StateHoliday'] = 1\n",
    "clean_open_stores.StateHoliday = clean_open_stores.StateHoliday.astype('int64', copy=False)"
   ]
  },
  {
   "cell_type": "code",
   "execution_count": 112,
   "metadata": {},
   "outputs": [],
   "source": [
    "# Promo2 Length Engineering\n",
    "clean_open_stores['Promo2Time'] = 2015 - clean_open_stores['Promo2SinceYear']\n",
    "clean_open_stores.Promo2Time.loc[(clean_open_stores.Promo2Time == 2015)] = 0"
   ]
  },
  {
   "cell_type": "code",
   "execution_count": 113,
   "metadata": {},
   "outputs": [],
   "source": [
    "# Competition Time Engineering\n",
    "clean_open_stores['CompetitionTime'] = 2015 - clean_open_stores['CompetitionOpenSinceYear']\n",
    "clean_open_stores.CompetitionTime.loc[(clean_open_stores.CompetitionTime == 2015)] = 0\n",
    "engineered_years = clean_open_stores.drop(columns = ['CompetitionOpenSinceMonth', 'CompetitionOpenSinceYear','Promo2SinceWeek', 'Promo2SinceYear'])"
   ]
  },
  {
   "cell_type": "code",
   "execution_count": 114,
   "metadata": {},
   "outputs": [],
   "source": [
    "# Assortment Encoding\n",
    "engineered_years.Assortment.value_counts()\n",
    "engineered_years.loc[(engineered_years['Assortment'] == 'a'),'Assortment'] = 0\n",
    "engineered_years.loc[(engineered_years['Assortment'] == 'b'),'Assortment'] = 1\n",
    "engineered_years.loc[(engineered_years['Assortment'] == 'c'),'Assortment'] = 2\n",
    "engineered_years.Assortment = engineered_years.Assortment.astype('int64', copy=False)"
   ]
  },
  {
   "cell_type": "code",
   "execution_count": 115,
   "metadata": {},
   "outputs": [],
   "source": [
    "# Competition Distance Engineering Based on Quartiles\n",
    "engineered_years.loc[((engineered_years['CompetitionDistance'] > 0) & (engineered_years['CompetitionDistance'] <= 710)),'CompetitionDistance'] = 3\n",
    "engineered_years.loc[((engineered_years['CompetitionDistance'] > 710) & (engineered_years['CompetitionDistance'] <= 2320)),'CompetitionDistance'] = 2\n",
    "engineered_years.loc[((engineered_years['CompetitionDistance'] > 2320) & (engineered_years['CompetitionDistance'] <= 6880)),'CompetitionDistance'] = 1\n",
    "engineered_years.loc[((engineered_years['CompetitionDistance'] > 6880) & (engineered_years['CompetitionDistance'] <= 75860)),'CompetitionDistance'] = 0"
   ]
  },
  {
   "cell_type": "code",
   "execution_count": 118,
   "metadata": {},
   "outputs": [],
   "source": [
    "engineered_years['MeanPurchase'] = engineered_years.Sales / engineered_years.Customers"
   ]
  },
  {
   "cell_type": "code",
   "execution_count": 122,
   "metadata": {},
   "outputs": [
    {
     "data": {
      "text/html": [
       "<div>\n",
       "<style scoped>\n",
       "    .dataframe tbody tr th:only-of-type {\n",
       "        vertical-align: middle;\n",
       "    }\n",
       "\n",
       "    .dataframe tbody tr th {\n",
       "        vertical-align: top;\n",
       "    }\n",
       "\n",
       "    .dataframe thead th {\n",
       "        text-align: right;\n",
       "    }\n",
       "</style>\n",
       "<table border=\"1\" class=\"dataframe\">\n",
       "  <thead>\n",
       "    <tr style=\"text-align: right;\">\n",
       "      <th></th>\n",
       "      <th>Date</th>\n",
       "      <th>Store</th>\n",
       "      <th>DayOfWeek</th>\n",
       "      <th>Sales</th>\n",
       "      <th>Open</th>\n",
       "      <th>Promo</th>\n",
       "      <th>StateHoliday</th>\n",
       "      <th>SchoolHoliday</th>\n",
       "      <th>StoreType</th>\n",
       "      <th>Assortment</th>\n",
       "      <th>CompetitionDistance</th>\n",
       "      <th>Promo2</th>\n",
       "      <th>Promo2Time</th>\n",
       "      <th>CompetitionTime</th>\n",
       "      <th>MeanPurchase</th>\n",
       "    </tr>\n",
       "  </thead>\n",
       "  <tbody>\n",
       "    <tr>\n",
       "      <th>0</th>\n",
       "      <td>2013-01-02</td>\n",
       "      <td>1115.0</td>\n",
       "      <td>3</td>\n",
       "      <td>3697.0</td>\n",
       "      <td>1.0</td>\n",
       "      <td>0.0</td>\n",
       "      <td>0</td>\n",
       "      <td>1.0</td>\n",
       "      <td>0</td>\n",
       "      <td>2</td>\n",
       "      <td>1.0</td>\n",
       "      <td>1.0</td>\n",
       "      <td>3.0</td>\n",
       "      <td>0.0</td>\n",
       "      <td>12.121311</td>\n",
       "    </tr>\n",
       "    <tr>\n",
       "      <th>1</th>\n",
       "      <td>2013-01-03</td>\n",
       "      <td>1115.0</td>\n",
       "      <td>4</td>\n",
       "      <td>4297.0</td>\n",
       "      <td>1.0</td>\n",
       "      <td>0.0</td>\n",
       "      <td>0</td>\n",
       "      <td>1.0</td>\n",
       "      <td>0</td>\n",
       "      <td>2</td>\n",
       "      <td>1.0</td>\n",
       "      <td>1.0</td>\n",
       "      <td>3.0</td>\n",
       "      <td>0.0</td>\n",
       "      <td>14.323333</td>\n",
       "    </tr>\n",
       "    <tr>\n",
       "      <th>2</th>\n",
       "      <td>2013-01-04</td>\n",
       "      <td>1115.0</td>\n",
       "      <td>5</td>\n",
       "      <td>4540.0</td>\n",
       "      <td>1.0</td>\n",
       "      <td>0.0</td>\n",
       "      <td>0</td>\n",
       "      <td>1.0</td>\n",
       "      <td>0</td>\n",
       "      <td>2</td>\n",
       "      <td>1.0</td>\n",
       "      <td>1.0</td>\n",
       "      <td>3.0</td>\n",
       "      <td>0.0</td>\n",
       "      <td>13.926380</td>\n",
       "    </tr>\n",
       "    <tr>\n",
       "      <th>3</th>\n",
       "      <td>2013-01-05</td>\n",
       "      <td>1115.0</td>\n",
       "      <td>6</td>\n",
       "      <td>4771.0</td>\n",
       "      <td>1.0</td>\n",
       "      <td>0.0</td>\n",
       "      <td>0</td>\n",
       "      <td>1.0</td>\n",
       "      <td>0</td>\n",
       "      <td>2</td>\n",
       "      <td>1.0</td>\n",
       "      <td>1.0</td>\n",
       "      <td>3.0</td>\n",
       "      <td>0.0</td>\n",
       "      <td>14.073746</td>\n",
       "    </tr>\n",
       "    <tr>\n",
       "      <th>4</th>\n",
       "      <td>2013-01-07</td>\n",
       "      <td>1115.0</td>\n",
       "      <td>1</td>\n",
       "      <td>6905.0</td>\n",
       "      <td>1.0</td>\n",
       "      <td>1.0</td>\n",
       "      <td>0</td>\n",
       "      <td>1.0</td>\n",
       "      <td>0</td>\n",
       "      <td>2</td>\n",
       "      <td>1.0</td>\n",
       "      <td>1.0</td>\n",
       "      <td>3.0</td>\n",
       "      <td>0.0</td>\n",
       "      <td>14.660297</td>\n",
       "    </tr>\n",
       "  </tbody>\n",
       "</table>\n",
       "</div>"
      ],
      "text/plain": [
       "        Date   Store  DayOfWeek   Sales  Open  Promo  StateHoliday  \\\n",
       "0 2013-01-02  1115.0          3  3697.0   1.0    0.0             0   \n",
       "1 2013-01-03  1115.0          4  4297.0   1.0    0.0             0   \n",
       "2 2013-01-04  1115.0          5  4540.0   1.0    0.0             0   \n",
       "3 2013-01-05  1115.0          6  4771.0   1.0    0.0             0   \n",
       "4 2013-01-07  1115.0          1  6905.0   1.0    1.0             0   \n",
       "\n",
       "   SchoolHoliday  StoreType  Assortment  CompetitionDistance  Promo2  \\\n",
       "0            1.0          0           2                  1.0     1.0   \n",
       "1            1.0          0           2                  1.0     1.0   \n",
       "2            1.0          0           2                  1.0     1.0   \n",
       "3            1.0          0           2                  1.0     1.0   \n",
       "4            1.0          0           2                  1.0     1.0   \n",
       "\n",
       "   Promo2Time  CompetitionTime  MeanPurchase  \n",
       "0         3.0              0.0     12.121311  \n",
       "1         3.0              0.0     14.323333  \n",
       "2         3.0              0.0     13.926380  \n",
       "3         3.0              0.0     14.073746  \n",
       "4         3.0              0.0     14.660297  "
      ]
     },
     "execution_count": 122,
     "metadata": {},
     "output_type": "execute_result"
    }
   ],
   "source": [
    "final_set = engineered_years.drop(columns=['PromoInterval', 'Customers'])"
   ]
  },
  {
   "cell_type": "code",
   "execution_count": 121,
   "metadata": {},
   "outputs": [],
   "source": [
    "sample = final_set.sample(frac = 0.2, random_state = 42)"
   ]
  },
  {
   "cell_type": "code",
   "execution_count": 125,
   "metadata": {},
   "outputs": [
    {
     "data": {
      "text/plain": [
       "16.054651866990916"
      ]
     },
     "execution_count": 125,
     "metadata": {},
     "output_type": "execute_result"
    }
   ],
   "source": [
    "# Random forest\n",
    "rf_set = sample.drop(['Date'], axis = 1)\n",
    "X = rf_set.drop(columns = 'Sales')\n",
    "y = rf_set['Sales']\n",
    "from sklearn.model_selection import train_test_split\n",
    "X_train,X_test,y_train,y_test = train_test_split(X,y,test_size=0.2,random_state=42)\n",
    "\n",
    "from sklearn.ensemble import RandomForestRegressor\n",
    "rf = RandomForestRegressor(random_state=42)\n",
    "rf.fit(X_train, y_train)\n",
    "preds = rf.predict(X_test)\n",
    "actuals = np.array(y_test)\n",
    "test_da_shit(actuals, preds)"
   ]
  },
  {
   "cell_type": "code",
   "execution_count": 124,
   "metadata": {},
   "outputs": [
    {
     "data": {
      "text/plain": [
       "16.099756769172103"
      ]
     },
     "execution_count": 124,
     "metadata": {},
     "output_type": "execute_result"
    }
   ],
   "source": [
    "# Random forest 2\n",
    "rf_set = sample.drop(['Date'], axis = 1)\n",
    "X = rf_set.drop(columns = 'Sales')\n",
    "y = rf_set['Sales']\n",
    "from sklearn.model_selection import train_test_split\n",
    "X_train,X_test,y_train,y_test = train_test_split(X,y,test_size=0.2,random_state=42)\n",
    "mask = y_train > 1200\n",
    "X_train = X_train[mask]\n",
    "y_train = y_train[mask]\n",
    "from sklearn.ensemble import RandomForestRegressor\n",
    "rf = RandomForestRegressor(random_state=42)\n",
    "rf.fit(X_train, y_train)\n",
    "preds = rf.predict(X_test)\n",
    "actuals = np.array(y_test)\n",
    "test_da_shit(actuals, preds)"
   ]
  },
  {
   "cell_type": "code",
   "execution_count": null,
   "metadata": {},
   "outputs": [
    {
     "name": "stdout",
     "output_type": "stream",
     "text": [
      "40: 16.055042359396957\n",
      "45: 16.047284872835032\n",
      "50: 16.07244736350245\n",
      "55: 16.08598137535746\n",
      "60: 16.073852730506125\n",
      "65: 16.059648673018142\n",
      "70: 16.039740975147225\n",
      "75: 16.040989824123628\n",
      "80: 16.047988538601665\n"
     ]
    }
   ],
   "source": [
    "# Random forest 2\n",
    "rf_set = sample.drop(['Date'], axis = 1)\n",
    "X = rf_set.drop(columns = 'Sales')\n",
    "y = rf_set['Sales']\n",
    "from sklearn.model_selection import train_test_split\n",
    "X_train,X_test,y_train,y_test = train_test_split(X,y,test_size=0.2,random_state=42)\n",
    "\n",
    "mask = y_train > 500\n",
    "X_train = X_train[mask]\n",
    "y_train = y_train[mask]\n",
    "\n",
    "for i in range(40,120,5):\n",
    "    from sklearn.ensemble import RandomForestRegressor\n",
    "    rf = RandomForestRegressor(n_estimators=i,random_state=42)\n",
    "    rf.fit(X_train, y_train)\n",
    "    preds = rf.predict(X_test)\n",
    "    actuals = np.array(y_test)\n",
    "    print(f'{i}: {test_da_shit(actuals, preds)}')"
   ]
  },
  {
   "cell_type": "code",
   "execution_count": null,
   "metadata": {},
   "outputs": [],
   "source": []
  }
 ],
 "metadata": {
  "kernelspec": {
   "display_name": "Python 3",
   "language": "python",
   "name": "python3"
  },
  "language_info": {
   "codemirror_mode": {
    "name": "ipython",
    "version": 3
   },
   "file_extension": ".py",
   "mimetype": "text/x-python",
   "name": "python",
   "nbconvert_exporter": "python",
   "pygments_lexer": "ipython3",
   "version": "3.8.3"
  }
 },
 "nbformat": 4,
 "nbformat_minor": 4
}
