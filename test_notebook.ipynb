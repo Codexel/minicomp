{
 "cells": [
  {
   "cell_type": "code",
   "execution_count": null,
   "metadata": {},
   "outputs": [],
   "source": [
    "import pandas as pd\n",
    "import numpy as np\n",
    "import matplotlib.pyplot as plt"
   ]
  },
  {
   "cell_type": "markdown",
   "metadata": {},
   "source": [
    "## Test set manipulation"
   ]
  },
  {
   "cell_type": "code",
   "execution_count": null,
   "metadata": {},
   "outputs": [],
   "source": [
    "test= pd.read_csv('data/test.csv', parse_dates = True)"
   ]
  },
  {
   "cell_type": "code",
   "execution_count": null,
   "metadata": {},
   "outputs": [],
   "source": [
    "test.loc[:,'Date'] = pd.to_datetime(test.loc[:,'Date'], format='%Y-%m-%d')\n",
    "test.loc[:,'DayOfWeek'] = test.loc[:,'Date'].dt.weekday + 1\n",
    "\n",
    "test.loc[test.loc[:,'StateHoliday'] == 0.0, 'StateHoliday'] = '0'\n",
    "test.loc[test.loc[:,'StateHoliday'] == 0, 'StateHoliday'] = '0'"
   ]
  },
  {
   "cell_type": "code",
   "execution_count": null,
   "metadata": {},
   "outputs": [],
   "source": [
    "test.drop(['Customers', 'SchoolHoliday'], axis = 1, inplace = True)"
   ]
  },
  {
   "cell_type": "code",
   "execution_count": null,
   "metadata": {},
   "outputs": [],
   "source": [
    "test.loc[:,'Month'] = test.loc[:,'Date'].dt.month"
   ]
  },
  {
   "cell_type": "code",
   "execution_count": null,
   "metadata": {},
   "outputs": [],
   "source": [
    "test.loc[test.loc[:,'Month'] != 12, 'Month'] = 0\n",
    "test.loc[test.loc[:,'Month'] == 12, 'Month'] = 1"
   ]
  },
  {
   "cell_type": "code",
   "execution_count": null,
   "metadata": {},
   "outputs": [],
   "source": [
    "stores_light = pd.read_csv('stores_light.csv')\n",
    "test = test.merge(stores_light, how = 'left', on = 'Store')"
   ]
  },
  {
   "cell_type": "code",
   "execution_count": null,
   "metadata": {},
   "outputs": [],
   "source": [
    "test"
   ]
  },
  {
   "cell_type": "code",
   "execution_count": null,
   "metadata": {},
   "outputs": [],
   "source": [
    "train = pd.read_csv('data/train.csv', parse_dates=True)\n",
    "\n",
    "train.loc[(train.loc[:, 'Sales'].isnull()) & (train['Open'] == 0), 'Sales'] = 0\n",
    "train.loc[(train.loc[:, 'Sales'].isnull()) & (train['Customers'] == 0), 'Sales'] = 0\n",
    "\n",
    "train.loc[(train.loc[:, 'Customers'].isnull()) & (train['Sales'] == 0), 'Customers'] = 0\n",
    "\n",
    "no_null_sales = train.loc[train['Sales'].notnull(), :]\n",
    "no_null_sales = no_null_sales[train['Open'] != 0]\n",
    "\n",
    "no_null_sales = no_null_sales.loc[no_null_sales['Store'].notnull(), :]\n",
    "\n",
    "no_null_sales.loc[:,'Date'] = pd.to_datetime(no_null_sales.loc[:,'Date'], format='%Y-%m-%d')\n",
    "no_null_sales.loc[:,'DayOfWeek'] = no_null_sales.loc[:,'Date'].dt.weekday + 1\n",
    "\n",
    "no_null_sales.loc[no_null_sales.loc[:,'StateHoliday'] == 0.0, 'StateHoliday'] = '0'\n",
    "no_null_sales.loc[no_null_sales.loc[:,'StateHoliday'] == 0, 'StateHoliday'] = '0'\n",
    "\n",
    "no_null_sales.loc[(no_null_sales.loc[:,'Open'].isnull()) & (no_null_sales.loc[:,'Sales'] == 0),'Open'] = 0\n",
    "no_null_sales.loc[(no_null_sales.loc[:,'Open'].isnull()) & (no_null_sales.loc[:,'Sales'] > 0),'Open'] = 1\n",
    "\n",
    "no_closed_stores = no_null_sales.loc[no_null_sales.loc[:,'Open'] == 1]\n",
    "no_closed_stores = no_closed_stores.merge(stores_light, how = 'left', on = 'Store')\n",
    "\n",
    "no_closed_stores = no_closed_stores.loc[no_closed_stores.loc[:,'Sales'] > 800]"
   ]
  },
  {
   "cell_type": "code",
   "execution_count": null,
   "metadata": {},
   "outputs": [],
   "source": [
    "assortment_dict = no_closed_stores.groupby('Assortment').mean()['Sales'].to_dict()\n",
    "storetype_dict = no_closed_stores.groupby('StoreType').mean()['Sales'].to_dict()\n",
    "store_dict = no_closed_stores.groupby('Store').mean()['Sales'].to_dict()\n",
    "holiday_dict = no_closed_stores.groupby('StateHoliday').mean()['Sales'].to_dict()"
   ]
  },
  {
   "cell_type": "code",
   "execution_count": null,
   "metadata": {},
   "outputs": [],
   "source": [
    "test['Store'] = test['Store'].map(store_dict)\n",
    "test['StateHoliday'] = test['StateHoliday'].map(holiday_dict)\n",
    "\n",
    "test['StoreType'] = test['StoreType'].map(storetype_dict)\n",
    "test['Assortment'] = test['Assortment'].map(assortment_dict)\n",
    "\n",
    "test['PromoMonday'] = 0\n",
    "test.loc[(test['Promo'] == 1) & (test['DayOfWeek'] == 1), 'PromoMonday'] = 1"
   ]
  },
  {
   "cell_type": "markdown",
   "metadata": {},
   "source": [
    "## Download, import model and make predictions"
   ]
  },
  {
   "cell_type": "code",
   "execution_count": null,
   "metadata": {},
   "outputs": [],
   "source": [
    "url = \"https://www.dropbox.com/s/q2e41mzg759fzzu/model.sav?dl=1\"\n",
    "import urllib.request\n",
    "u = urllib.request.urlopen(url)\n",
    "data = u.read()\n",
    "u.close()\n",
    " \n",
    "with open('model.sav', \"wb\") as f :\n",
    "    f.write(data)"
   ]
  },
  {
   "cell_type": "code",
   "execution_count": null,
   "metadata": {},
   "outputs": [],
   "source": [
    "import pickle\n",
    "model = pickle.load(open('model.sav', 'rb'))"
   ]
  },
  {
   "cell_type": "code",
   "execution_count": null,
   "metadata": {},
   "outputs": [],
   "source": [
    "test.fillna(0, inplace = True)\n",
    "preds = model.predict(test.drop(['Date', 'Sales'], axis = 1))\n",
    "actuals = test['Sales']"
   ]
  },
  {
   "cell_type": "markdown",
   "metadata": {},
   "source": [
    "## Get score"
   ]
  },
  {
   "cell_type": "code",
   "execution_count": null,
   "metadata": {},
   "outputs": [],
   "source": [
    "def metric(preds, actuals):\n",
    "    preds = preds.reshape(-1)\n",
    "    actuals = actuals.reshape(-1)\n",
    "    assert preds.shape == actuals.shape\n",
    "    return 100 * np.linalg.norm((actuals - preds) / actuals) / np.sqrt(preds.shape[0])\n",
    "\n",
    "def get_score(actuals, preds):\n",
    "    new_test= pd.DataFrame({'Actuals': actuals,'Preds': preds})\n",
    "    new_test = new_test.loc[new_test['Actuals'] != 0,:]\n",
    "    return metric(np.array(new_test['Actuals']), np.array(new_test['Preds']))"
   ]
  },
  {
   "cell_type": "code",
   "execution_count": null,
   "metadata": {},
   "outputs": [],
   "source": [
    "get_score(actuals, preds)"
   ]
  }
 ],
 "metadata": {
  "kernelspec": {
   "display_name": "Python 3",
   "language": "python",
   "name": "python3"
  },
  "language_info": {
   "codemirror_mode": {
    "name": "ipython",
    "version": 3
   },
   "file_extension": ".py",
   "mimetype": "text/x-python",
   "name": "python",
   "nbconvert_exporter": "python",
   "pygments_lexer": "ipython3",
   "version": "3.8.5"
  }
 },
 "nbformat": 4,
 "nbformat_minor": 4
}
