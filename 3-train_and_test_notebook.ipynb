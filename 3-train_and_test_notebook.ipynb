{
 "cells": [
  {
   "cell_type": "markdown",
   "metadata": {},
   "source": [
    "## Train and test notebook\n",
    "\n",
    "This is where we train the final model on the whole dataset, and then test it to get our final score. "
   ]
  },
  {
   "cell_type": "code",
   "execution_count": 1,
   "metadata": {},
   "outputs": [],
   "source": [
    "import pandas as pd\n",
    "import numpy as np\n",
    "import matplotlib.pyplot as plt\n",
    "import datetime"
   ]
  },
  {
   "cell_type": "code",
   "execution_count": 2,
   "metadata": {},
   "outputs": [],
   "source": [
    "def metric(preds, actuals):\n",
    "    preds = preds.reshape(-1)\n",
    "    actuals = actuals.reshape(-1)\n",
    "    assert preds.shape == actuals.shape\n",
    "    return 100 * np.linalg.norm((actuals - preds) / actuals) / np.sqrt(preds.shape[0])\n",
    "\n",
    "def get_score(actuals, preds):\n",
    "    new_test= pd.DataFrame({'Actuals': actuals,'Preds': preds})\n",
    "    new_test = new_test.loc[new_test['Actuals'] != 0,:]\n",
    "    return metric(np.array(new_test['Actuals']), np.array(new_test['Preds']))\n",
    "\n",
    "def mean_encoder(df, col, target = 'Sales'):\n",
    "    Mean_encoded_subject = no_closed_stores.groupby([col])[target].mean().to_dict() \n",
    "    return df[col].map(Mean_encoded_subject)"
   ]
  },
  {
   "cell_type": "code",
   "execution_count": 14,
   "metadata": {},
   "outputs": [
    {
     "name": "stderr",
     "output_type": "stream",
     "text": [
      "/opt/anaconda3/envs/minicomp/lib/python3.8/site-packages/IPython/core/interactiveshell.py:3145: DtypeWarning: Columns (7) have mixed types.Specify dtype option on import or set low_memory=False.\n",
      "  has_raised = await self.run_ast_nodes(code_ast.body, cell_name,\n"
     ]
    }
   ],
   "source": [
    "no_null_sales = pd.read_csv('clean_data.csv', parse_dates = True)\n",
    "no_null_sales.loc[:,'Date'] = pd.to_datetime(no_null_sales.loc[:,'Date'], format='%Y-%m-%d')\n",
    "no_closed_stores = no_null_sales[no_null_sales['Open'] == 1]\n",
    "stores = pd.read_csv('stores_light.csv')"
   ]
  },
  {
   "cell_type": "code",
   "execution_count": 15,
   "metadata": {},
   "outputs": [],
   "source": [
    "no_closed_stores = no_closed_stores.loc[no_closed_stores.loc[:,'Sales'] > 0]\n",
    "no_closed_stores.loc[no_closed_stores['StateHoliday'] == 0, 'StateHoliday'] = '0'\n",
    "no_closed_stores['Month'] = no_closed_stores['Date'].dt.month"
   ]
  },
  {
   "cell_type": "code",
   "execution_count": 16,
   "metadata": {},
   "outputs": [],
   "source": [
    "no_closed_stores = no_closed_stores.merge(stores, how='left', on='Store')"
   ]
  },
  {
   "cell_type": "code",
   "execution_count": 10,
   "metadata": {},
   "outputs": [
    {
     "name": "stdout",
     "output_type": "stream",
     "text": [
      "Training score: 14.783856308948387\n"
     ]
    }
   ],
   "source": [
    "rf_set = no_closed_stores.drop(['Date', 'Customers', 'SchoolHoliday'], axis = 1)\n",
    "\n",
    "rf_set.loc[rf_set['Month'] != 12, 'Month'] = 0\n",
    "rf_set.loc[rf_set['Month'] == 12, 'Month'] = 1\n",
    "rf_set['Store'] = mean_encoder(rf_set, 'Store')\n",
    "rf_set['StateHoliday'] = mean_encoder(rf_set, 'StateHoliday')\n",
    "\n",
    "rf_set['StoreType'] = mean_encoder(rf_set, 'StoreType')\n",
    "rf_set['Assortment'] = mean_encoder(rf_set, 'Assortment')\n",
    "\n",
    "X = rf_set.drop('Sales', axis = 1)\n",
    "y = rf_set['Sales']\n",
    "mask = y > 1200\n",
    "X = X[mask]\n",
    "y = y[mask]\n",
    "\n",
    "X.fillna(0, inplace=True)\n",
    "\n",
    "from sklearn.ensemble import RandomForestRegressor\n",
    "rf = RandomForestRegressor(random_state = 42, max_depth = 20, n_estimators = 3000, \n",
    "                           min_samples_split = 15, max_samples = 0.7, max_features = 8)\n",
    "rf.fit(X, y)\n",
    "preds = rf.predict(X)\n",
    "actuals = np.array(y)\n",
    "print(f'Training score: {get_score(actuals, preds)}')"
   ]
  },
  {
   "cell_type": "code",
   "execution_count": 11,
   "metadata": {},
   "outputs": [],
   "source": [
    "import pickle\n",
    "\n",
    "filename = 'model2.sav'\n",
    "pickle.dump(rf, open(filename, 'wb'))"
   ]
  },
  {
   "cell_type": "markdown",
   "metadata": {},
   "source": [
    "## Testing\n",
    "\n",
    "Let's apply the test data and find out what score we get in the competition!"
   ]
  },
  {
   "cell_type": "code",
   "execution_count": null,
   "metadata": {},
   "outputs": [],
   "source": [
    "# loading in and preparing the test data\n",
    "test = pd.read_csv('data/test.csv', parse_dates=True)\n",
    "\n",
    "test.loc[:,'Date'] = pd.to_datetime(test.loc[:,'Date'], format='%Y-%m-%d')\n",
    "test.loc[:,'DayOfWeek'] = test.loc[:,'Date'].dt.weekday + 1\n",
    "\n",
    "test.loc[test.loc[:,'StateHoliday'] == 0.0, 'StateHoliday'] = '0'\n",
    "test.loc[test.loc[:,'StateHoliday'] == 0, 'StateHoliday'] = '0'\n",
    "\n",
    "test.drop(['Customers', 'SchoolHoliday'], axis = 1, inplace = True)\n",
    "\n",
    "test.loc[:,'Month'] = test.loc[:,'Date'].dt.month\n",
    "\n",
    "test.loc[test.loc[:,'Month'] != 12, 'Month'] = 0\n",
    "test.loc[test.loc[:,'Month'] == 12, 'Month'] = 1\n",
    "\n",
    "test = test.merge(stores_light, how = 'left', on = 'Store')\n",
    "\n",
    "assortment_dict = no_closed_stores.groupby('Assortment').mean()['Sales'].to_dict()\n",
    "storetype_dict = no_closed_stores.groupby('StoreType').mean()['Sales'].to_dict()\n",
    "store_dict = no_closed_stores.groupby('Store').mean()['Sales'].to_dict()\n",
    "holiday_dict = no_closed_stores.groupby('StateHoliday').mean()['Sales'].to_dict()\n",
    "\n",
    "test['Store'] = test['Store'].map(store_dict)\n",
    "test['StateHoliday'] = test['StateHoliday'].map(holiday_dict)\n",
    "test['StoreType'] = test['StoreType'].map(storetype_dict)\n",
    "test['Assortment'] = test['Assortment'].map(assortment_dict)\n",
    "\n",
    "test.fillna(0, inplace = True) # just in case"
   ]
  },
  {
   "cell_type": "code",
   "execution_count": 17,
   "metadata": {},
   "outputs": [
    {
     "name": "stderr",
     "output_type": "stream",
     "text": [
      "/opt/anaconda3/envs/minicomp/lib/python3.8/site-packages/IPython/core/interactiveshell.py:3145: DtypeWarning: Columns (7) have mixed types.Specify dtype option on import or set low_memory=False.\n",
      "  has_raised = await self.run_ast_nodes(code_ast.body, cell_name,\n"
     ]
    },
    {
     "data": {
      "text/plain": [
       "18.825026651849814"
      ]
     },
     "execution_count": 17,
     "metadata": {},
     "output_type": "execute_result"
    }
   ],
   "source": [
    "preds = rf.predict(test.drop(['Date', 'Sales'], axis = 1))\n",
    "actuals = test['Sales']\n",
    "\n",
    "get_score(actuals, preds)"
   ]
  },
  {
   "cell_type": "markdown",
   "metadata": {},
   "source": [
    "We achieved a final score of 18.83%, earning us first place in the competition (2nd place scored 26%). Still, 18.83 is a big departure from our training score of 14.78. There are probably good reasons for this, which I hope to explore when I find the time (presumably when the course is over). For now, I have 2 main suspects:\n",
    "- The general approach of training for randomly selected days instead of treating it as a time series. After all, yesterday's sales is a pretty good indicator of today's sales. \n",
    "- Changes in stores over time. For example, a store may be remodeled and gain a sales boost. With our approach, we're taking all sales into account when we do mean encoding, from both before and after the remodeling. When predicting the future, we're in this example only interested in the sales levels from after the remodeling. "
   ]
  }
 ],
 "metadata": {
  "kernelspec": {
   "display_name": "Python 3",
   "language": "python",
   "name": "python3"
  },
  "language_info": {
   "codemirror_mode": {
    "name": "ipython",
    "version": 3
   },
   "file_extension": ".py",
   "mimetype": "text/x-python",
   "name": "python",
   "nbconvert_exporter": "python",
   "pygments_lexer": "ipython3",
   "version": "3.8.5"
  }
 },
 "nbformat": 4,
 "nbformat_minor": 4
}
