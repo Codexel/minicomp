{
 "cells": [
  {
   "cell_type": "code",
   "execution_count": 1,
   "metadata": {},
   "outputs": [],
   "source": [
    "import pandas as pd\n",
    "import numpy as np\n",
    "import matplotlib.pyplot as plt"
   ]
  },
  {
   "cell_type": "code",
   "execution_count": 62,
   "metadata": {},
   "outputs": [
    {
     "name": "stderr",
     "output_type": "stream",
     "text": [
      "/opt/anaconda3/envs/minicomp/lib/python3.8/site-packages/IPython/core/interactiveshell.py:3145: DtypeWarning: Columns (7) have mixed types.Specify dtype option on import or set low_memory=False.\n",
      "  has_raised = await self.run_ast_nodes(code_ast.body, cell_name,\n"
     ]
    }
   ],
   "source": [
    "train = pd.read_csv('data/train.csv', parse_dates = True)\n",
    "stores = pd.read_csv('data/store.csv')"
   ]
  },
  {
   "cell_type": "code",
   "execution_count": 63,
   "metadata": {},
   "outputs": [
    {
     "data": {
      "text/html": [
       "<div>\n",
       "<style scoped>\n",
       "    .dataframe tbody tr th:only-of-type {\n",
       "        vertical-align: middle;\n",
       "    }\n",
       "\n",
       "    .dataframe tbody tr th {\n",
       "        vertical-align: top;\n",
       "    }\n",
       "\n",
       "    .dataframe thead th {\n",
       "        text-align: right;\n",
       "    }\n",
       "</style>\n",
       "<table border=\"1\" class=\"dataframe\">\n",
       "  <thead>\n",
       "    <tr style=\"text-align: right;\">\n",
       "      <th></th>\n",
       "      <th>Date</th>\n",
       "      <th>Store</th>\n",
       "      <th>DayOfWeek</th>\n",
       "      <th>Sales</th>\n",
       "      <th>Customers</th>\n",
       "      <th>Open</th>\n",
       "      <th>Promo</th>\n",
       "      <th>StateHoliday</th>\n",
       "      <th>SchoolHoliday</th>\n",
       "    </tr>\n",
       "  </thead>\n",
       "  <tbody>\n",
       "    <tr>\n",
       "      <th>0</th>\n",
       "      <td>2013-01-01</td>\n",
       "      <td>1115.0</td>\n",
       "      <td>2.0</td>\n",
       "      <td>0.0</td>\n",
       "      <td>0.0</td>\n",
       "      <td>0.0</td>\n",
       "      <td>0.0</td>\n",
       "      <td>a</td>\n",
       "      <td>1.0</td>\n",
       "    </tr>\n",
       "    <tr>\n",
       "      <th>1</th>\n",
       "      <td>2013-01-01</td>\n",
       "      <td>379.0</td>\n",
       "      <td>2.0</td>\n",
       "      <td>0.0</td>\n",
       "      <td>0.0</td>\n",
       "      <td>0.0</td>\n",
       "      <td>0.0</td>\n",
       "      <td>a</td>\n",
       "      <td>1.0</td>\n",
       "    </tr>\n",
       "    <tr>\n",
       "      <th>2</th>\n",
       "      <td>2013-01-01</td>\n",
       "      <td>378.0</td>\n",
       "      <td>2.0</td>\n",
       "      <td>0.0</td>\n",
       "      <td>0.0</td>\n",
       "      <td>0.0</td>\n",
       "      <td>0.0</td>\n",
       "      <td>a</td>\n",
       "      <td>1.0</td>\n",
       "    </tr>\n",
       "    <tr>\n",
       "      <th>3</th>\n",
       "      <td>2013-01-01</td>\n",
       "      <td>377.0</td>\n",
       "      <td>2.0</td>\n",
       "      <td>0.0</td>\n",
       "      <td>0.0</td>\n",
       "      <td>0.0</td>\n",
       "      <td>0.0</td>\n",
       "      <td>a</td>\n",
       "      <td>1.0</td>\n",
       "    </tr>\n",
       "    <tr>\n",
       "      <th>4</th>\n",
       "      <td>2013-01-01</td>\n",
       "      <td>376.0</td>\n",
       "      <td>2.0</td>\n",
       "      <td>0.0</td>\n",
       "      <td>0.0</td>\n",
       "      <td>0.0</td>\n",
       "      <td>0.0</td>\n",
       "      <td>a</td>\n",
       "      <td>1.0</td>\n",
       "    </tr>\n",
       "    <tr>\n",
       "      <th>...</th>\n",
       "      <td>...</td>\n",
       "      <td>...</td>\n",
       "      <td>...</td>\n",
       "      <td>...</td>\n",
       "      <td>...</td>\n",
       "      <td>...</td>\n",
       "      <td>...</td>\n",
       "      <td>...</td>\n",
       "      <td>...</td>\n",
       "    </tr>\n",
       "    <tr>\n",
       "      <th>637769</th>\n",
       "      <td>2014-07-31</td>\n",
       "      <td>752.0</td>\n",
       "      <td>4.0</td>\n",
       "      <td>7259.0</td>\n",
       "      <td>576.0</td>\n",
       "      <td>1.0</td>\n",
       "      <td>1.0</td>\n",
       "      <td>0</td>\n",
       "      <td>1.0</td>\n",
       "    </tr>\n",
       "    <tr>\n",
       "      <th>637770</th>\n",
       "      <td>2014-07-31</td>\n",
       "      <td>753.0</td>\n",
       "      <td>NaN</td>\n",
       "      <td>9938.0</td>\n",
       "      <td>796.0</td>\n",
       "      <td>1.0</td>\n",
       "      <td>1.0</td>\n",
       "      <td>0</td>\n",
       "      <td>1.0</td>\n",
       "    </tr>\n",
       "    <tr>\n",
       "      <th>637771</th>\n",
       "      <td>2014-07-31</td>\n",
       "      <td>754.0</td>\n",
       "      <td>4.0</td>\n",
       "      <td>10564.0</td>\n",
       "      <td>1162.0</td>\n",
       "      <td>1.0</td>\n",
       "      <td>1.0</td>\n",
       "      <td>0</td>\n",
       "      <td>NaN</td>\n",
       "    </tr>\n",
       "    <tr>\n",
       "      <th>637772</th>\n",
       "      <td>2014-07-31</td>\n",
       "      <td>755.0</td>\n",
       "      <td>4.0</td>\n",
       "      <td>12302.0</td>\n",
       "      <td>1020.0</td>\n",
       "      <td>1.0</td>\n",
       "      <td>1.0</td>\n",
       "      <td>0</td>\n",
       "      <td>1.0</td>\n",
       "    </tr>\n",
       "    <tr>\n",
       "      <th>637773</th>\n",
       "      <td>2014-07-31</td>\n",
       "      <td>751.0</td>\n",
       "      <td>4.0</td>\n",
       "      <td>3913.0</td>\n",
       "      <td>539.0</td>\n",
       "      <td>1.0</td>\n",
       "      <td>1.0</td>\n",
       "      <td>0</td>\n",
       "      <td>1.0</td>\n",
       "    </tr>\n",
       "  </tbody>\n",
       "</table>\n",
       "<p>637774 rows × 9 columns</p>\n",
       "</div>"
      ],
      "text/plain": [
       "              Date   Store  DayOfWeek    Sales  Customers  Open  Promo  \\\n",
       "0       2013-01-01  1115.0        2.0      0.0        0.0   0.0    0.0   \n",
       "1       2013-01-01   379.0        2.0      0.0        0.0   0.0    0.0   \n",
       "2       2013-01-01   378.0        2.0      0.0        0.0   0.0    0.0   \n",
       "3       2013-01-01   377.0        2.0      0.0        0.0   0.0    0.0   \n",
       "4       2013-01-01   376.0        2.0      0.0        0.0   0.0    0.0   \n",
       "...            ...     ...        ...      ...        ...   ...    ...   \n",
       "637769  2014-07-31   752.0        4.0   7259.0      576.0   1.0    1.0   \n",
       "637770  2014-07-31   753.0        NaN   9938.0      796.0   1.0    1.0   \n",
       "637771  2014-07-31   754.0        4.0  10564.0     1162.0   1.0    1.0   \n",
       "637772  2014-07-31   755.0        4.0  12302.0     1020.0   1.0    1.0   \n",
       "637773  2014-07-31   751.0        4.0   3913.0      539.0   1.0    1.0   \n",
       "\n",
       "       StateHoliday  SchoolHoliday  \n",
       "0                 a            1.0  \n",
       "1                 a            1.0  \n",
       "2                 a            1.0  \n",
       "3                 a            1.0  \n",
       "4                 a            1.0  \n",
       "...             ...            ...  \n",
       "637769            0            1.0  \n",
       "637770            0            1.0  \n",
       "637771            0            NaN  \n",
       "637772            0            1.0  \n",
       "637773            0            1.0  \n",
       "\n",
       "[637774 rows x 9 columns]"
      ]
     },
     "execution_count": 63,
     "metadata": {},
     "output_type": "execute_result"
    }
   ],
   "source": [
    "train"
   ]
  },
  {
   "cell_type": "code",
   "execution_count": 64,
   "metadata": {},
   "outputs": [
    {
     "data": {
      "text/plain": [
       "<AxesSubplot:>"
      ]
     },
     "execution_count": 64,
     "metadata": {},
     "output_type": "execute_result"
    },
    {
     "data": {
      "image/png": "[encoded data removed]",
      "text/plain": [
       "<Figure size 432x288 with 1 Axes>"
      ]
     },
     "metadata": {
      "needs_background": "light"
     },
     "output_type": "display_data"
    }
   ],
   "source": [
    "train['Sales'].hist()\n"
   ]
  },
  {
   "cell_type": "code",
   "execution_count": 20,
   "metadata": {},
   "outputs": [],
   "source": [
    "no_zero = train[train['Sales'] != 0]"
   ]
  },
  {
   "cell_type": "code",
   "execution_count": 22,
   "metadata": {},
   "outputs": [
    {
     "data": {
      "text/plain": [
       "(95.095, 2028.2]        4029\n",
       "(2028.2, 3923.4]       61680\n",
       "(3923.4, 5818.6]      154793\n",
       "(5818.6, 7713.8]      137755\n",
       "(7713.8, 9609.0]       79035\n",
       "(9609.0, 11504.2]      39155\n",
       "(11504.2, 13399.4]     17535\n",
       "(13399.4, 15294.6]      8496\n",
       "(15294.6, 17189.8]      4499\n",
       "(17189.8, 19085.0]      2685\n",
       "(19085.0, 20980.2]      1549\n",
       "(20980.2, 22875.4]       841\n",
       "(22875.4, 24770.6]       399\n",
       "(24770.6, 26665.8]       223\n",
       "(26665.8, 28561.0]       126\n",
       "(28561.0, 30456.2]        73\n",
       "(30456.2, 32351.4]        48\n",
       "(32351.4, 34246.6]        20\n",
       "(34246.6, 36141.8]        10\n",
       "(36141.8, 38037.0]         5\n",
       "Name: Sales, dtype: int64"
      ]
     },
     "execution_count": 22,
     "metadata": {},
     "output_type": "execute_result"
    }
   ],
   "source": [
    "no_zero['Sales'].value_counts(bins = 20, normalize = False).sort_index()"
   ]
  },
  {
   "cell_type": "code",
   "execution_count": 33,
   "metadata": {},
   "outputs": [
    {
     "data": {
      "text/plain": [
       "637774"
      ]
     },
     "execution_count": 33,
     "metadata": {},
     "output_type": "execute_result"
    }
   ],
   "source": [
    "train.shape[0]"
   ]
  },
  {
   "cell_type": "code",
   "execution_count": 57,
   "metadata": {},
   "outputs": [],
   "source": [
    "train.loc[train['StateHoliday'] == 0.0, 'StateHoliday'] = 0\n",
    "train.loc[train['StateHoliday'] == 0, 'StateHoliday'] = '0'"
   ]
  },
  {
   "cell_type": "code",
   "execution_count": 55,
   "metadata": {},
   "outputs": [
    {
     "data": {
      "text/plain": [
       "63583"
      ]
     },
     "execution_count": 55,
     "metadata": {},
     "output_type": "execute_result"
    }
   ],
   "source": [
    "(train['StateHoliday'] == 0.0).sum()"
   ]
  },
  {
   "cell_type": "code",
   "execution_count": 59,
   "metadata": {},
   "outputs": [
    {
     "data": {
      "text/html": [
       "<div>\n",
       "<style scoped>\n",
       "    .dataframe tbody tr th:only-of-type {\n",
       "        vertical-align: middle;\n",
       "    }\n",
       "\n",
       "    .dataframe tbody tr th {\n",
       "        vertical-align: top;\n",
       "    }\n",
       "\n",
       "    .dataframe thead th {\n",
       "        text-align: right;\n",
       "    }\n",
       "</style>\n",
       "<table border=\"1\" class=\"dataframe\">\n",
       "  <thead>\n",
       "    <tr style=\"text-align: right;\">\n",
       "      <th></th>\n",
       "      <th>Store</th>\n",
       "      <th>DayOfWeek</th>\n",
       "      <th>Sales</th>\n",
       "      <th>Customers</th>\n",
       "      <th>Open</th>\n",
       "      <th>Promo</th>\n",
       "      <th>SchoolHoliday</th>\n",
       "    </tr>\n",
       "    <tr>\n",
       "      <th>StateHoliday</th>\n",
       "      <th></th>\n",
       "      <th></th>\n",
       "      <th></th>\n",
       "      <th></th>\n",
       "      <th></th>\n",
       "      <th></th>\n",
       "      <th></th>\n",
       "    </tr>\n",
       "  </thead>\n",
       "  <tbody>\n",
       "    <tr>\n",
       "      <th>0</th>\n",
       "      <td>558.159277</td>\n",
       "      <td>4.021200</td>\n",
       "      <td>5840.965216</td>\n",
       "      <td>647.803876</td>\n",
       "      <td>0.854750</td>\n",
       "      <td>0.371714</td>\n",
       "      <td>0.162446</td>\n",
       "    </tr>\n",
       "    <tr>\n",
       "      <th>a</th>\n",
       "      <td>560.056338</td>\n",
       "      <td>3.191224</td>\n",
       "      <td>278.138228</td>\n",
       "      <td>42.410057</td>\n",
       "      <td>0.034310</td>\n",
       "      <td>0.328789</td>\n",
       "      <td>0.280699</td>\n",
       "    </tr>\n",
       "    <tr>\n",
       "      <th>b</th>\n",
       "      <td>555.494649</td>\n",
       "      <td>2.981486</td>\n",
       "      <td>214.157058</td>\n",
       "      <td>35.798006</td>\n",
       "      <td>0.021868</td>\n",
       "      <td>0.496908</td>\n",
       "      <td>0.930045</td>\n",
       "    </tr>\n",
       "    <tr>\n",
       "      <th>c</th>\n",
       "      <td>556.628260</td>\n",
       "      <td>3.500237</td>\n",
       "      <td>152.853868</td>\n",
       "      <td>24.957285</td>\n",
       "      <td>0.016206</td>\n",
       "      <td>0.000000</td>\n",
       "      <td>1.000000</td>\n",
       "    </tr>\n",
       "  </tbody>\n",
       "</table>\n",
       "</div>"
      ],
      "text/plain": [
       "                   Store  DayOfWeek        Sales   Customers      Open  \\\n",
       "StateHoliday                                                             \n",
       "0             558.159277   4.021200  5840.965216  647.803876  0.854750   \n",
       "a             560.056338   3.191224   278.138228   42.410057  0.034310   \n",
       "b             555.494649   2.981486   214.157058   35.798006  0.021868   \n",
       "c             556.628260   3.500237   152.853868   24.957285  0.016206   \n",
       "\n",
       "                 Promo  SchoolHoliday  \n",
       "StateHoliday                           \n",
       "0             0.371714       0.162446  \n",
       "a             0.328789       0.280699  \n",
       "b             0.496908       0.930045  \n",
       "c             0.000000       1.000000  "
      ]
     },
     "execution_count": 59,
     "metadata": {},
     "output_type": "execute_result"
    }
   ],
   "source": [
    "train.groupby('StateHoliday').mean()"
   ]
  },
  {
   "cell_type": "code",
   "execution_count": 61,
   "metadata": {},
   "outputs": [
    {
     "data": {
      "text/plain": [
       "0.0    1.0\n",
       "Name: Sales, dtype: float64"
      ]
     },
     "execution_count": 61,
     "metadata": {},
     "output_type": "execute_result"
    }
   ],
   "source": [
    "train[train['Open'] == 0]['Sales'].value_counts(normalize = True)"
   ]
  },
  {
   "cell_type": "code",
   "execution_count": 66,
   "metadata": {},
   "outputs": [
    {
     "data": {
      "text/plain": [
       "Date                 0\n",
       "Store            19301\n",
       "DayOfWeek        19017\n",
       "Sales            19027\n",
       "Customers        19091\n",
       "Open             19186\n",
       "Promo            19194\n",
       "StateHoliday     19254\n",
       "SchoolHoliday    19337\n",
       "dtype: int64"
      ]
     },
     "execution_count": 66,
     "metadata": {},
     "output_type": "execute_result"
    }
   ],
   "source": [
    "train.isnull().sum()"
   ]
  },
  {
   "cell_type": "code",
   "execution_count": null,
   "metadata": {},
   "outputs": [],
   "source": []
  }
 ],
 "metadata": {
  "kernelspec": {
   "display_name": "Python 3",
   "language": "python",
   "name": "python3"
  },
  "language_info": {
   "codemirror_mode": {
    "name": "ipython",
    "version": 3
   },
   "file_extension": ".py",
   "mimetype": "text/x-python",
   "name": "python",
   "nbconvert_exporter": "python",
   "pygments_lexer": "ipython3",
   "version": "3.8.5"
  }
 },
 "nbformat": 4,
 "nbformat_minor": 4
}
