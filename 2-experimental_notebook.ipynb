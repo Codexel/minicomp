{
 "cells": [
  {
   "cell_type": "markdown",
   "metadata": {},
   "source": [
    "## Experimental notebook\n",
    "\n",
    "This is a notebook where we explored the data, trained different models and experimented with different feature combinations. It's not part of the competition submission."
   ]
  },
  {
   "cell_type": "code",
   "execution_count": 1,
   "metadata": {},
   "outputs": [],
   "source": [
    "import pandas as pd\n",
    "import numpy as np\n",
    "import matplotlib.pyplot as plt\n",
    "import datetime"
   ]
  },
  {
   "cell_type": "markdown",
   "metadata": {},
   "source": [
    "## Clean Data imports"
   ]
  },
  {
   "cell_type": "code",
   "execution_count": 2,
   "metadata": {},
   "outputs": [
    {
     "name": "stderr",
     "output_type": "stream",
     "text": [
      "/opt/anaconda3/envs/minicomp/lib/python3.8/site-packages/IPython/core/interactiveshell.py:3145: DtypeWarning: Columns (7) have mixed types.Specify dtype option on import or set low_memory=False.\n",
      "  has_raised = await self.run_ast_nodes(code_ast.body, cell_name,\n"
     ]
    }
   ],
   "source": [
    "no_null_sales = pd.read_csv('clean_data.csv', parse_dates = True)\n",
    "stores = pd.read_csv('stores_light.csv')"
   ]
  },
  {
   "cell_type": "markdown",
   "metadata": {},
   "source": [
    "## Helper functions"
   ]
  },
  {
   "cell_type": "code",
   "execution_count": 39,
   "metadata": {},
   "outputs": [],
   "source": [
    "def metric(preds, actuals):\n",
    "    '''Given by competition organizers'''\n",
    "    preds = preds.reshape(-1)\n",
    "    actuals = actuals.reshape(-1)\n",
    "    assert preds.shape == actuals.shape\n",
    "    return 100 * np.linalg.norm((actuals - preds) / actuals) / np.sqrt(preds.shape[0])\n",
    "\n",
    "def get_score(actuals, preds):\n",
    "    '''Ensures no 0 sales get fed into metric function'''\n",
    "    new_test= pd.DataFrame({'Actuals': actuals,'Preds': preds})\n",
    "    new_test = new_test.loc[new_test['Actuals'] != 0,:]\n",
    "    return metric(np.array(new_test['Actuals']), np.array(new_test['Preds']))\n",
    "\n",
    "def mean_encoder(target_df, col, base_df=no_null_sales.copy(), target = 'Sales'):\n",
    "    '''Simple mean encoder'''\n",
    "    Mean_encoded_subject = base_df.groupby(col).mean()[target].to_dict() \n",
    "    return target_df[col].map(Mean_encoded_subject).values"
   ]
  },
  {
   "cell_type": "markdown",
   "metadata": {},
   "source": [
    "## Exploratory Data Analysis"
   ]
  },
  {
   "cell_type": "code",
   "execution_count": 4,
   "metadata": {},
   "outputs": [
    {
     "data": {
      "image/png": "[encoded data removed]",
      "text/plain": [
       "<Figure size 432x288 with 1 Axes>"
      ]
     },
     "metadata": {
      "needs_background": "light"
     },
     "output_type": "display_data"
    }
   ],
   "source": [
    "# Target column (Sales) distribution\n",
    "no_null_sales.loc[:,'Sales'].hist(bins = 50)\n",
    "plt.xlabel('Sales')\n",
    "plt.ylabel('Occurences')\n",
    "plt.show()"
   ]
  },
  {
   "cell_type": "code",
   "execution_count": 5,
   "metadata": {},
   "outputs": [
    {
     "data": {
      "image/png": "[encoded data removed]",
      "text/plain": [
       "<Figure size 432x288 with 1 Axes>"
      ]
     },
     "metadata": {
      "needs_background": "light"
     },
     "output_type": "display_data"
    }
   ],
   "source": [
    "# Days with 0 Sales will not help our model\n",
    "no_null_sales = no_null_sales.loc[no_null_sales.loc[:,'Sales'] > 0]\n",
    "plt.hist(no_null_sales.loc[:,'Sales'],bins = 50)\n",
    "plt.xlabel('Sales')\n",
    "plt.ylabel('Occurences')\n",
    "plt.show()"
   ]
  },
  {
   "cell_type": "code",
   "execution_count": 6,
   "metadata": {},
   "outputs": [
    {
     "data": {
      "text/html": [
       "<div>\n",
       "<style scoped>\n",
       "    .dataframe tbody tr th:only-of-type {\n",
       "        vertical-align: middle;\n",
       "    }\n",
       "\n",
       "    .dataframe tbody tr th {\n",
       "        vertical-align: top;\n",
       "    }\n",
       "\n",
       "    .dataframe thead th {\n",
       "        text-align: right;\n",
       "    }\n",
       "</style>\n",
       "<table border=\"1\" class=\"dataframe\">\n",
       "  <thead>\n",
       "    <tr style=\"text-align: right;\">\n",
       "      <th></th>\n",
       "      <th>Date</th>\n",
       "      <th>Store</th>\n",
       "      <th>DayOfWeek</th>\n",
       "      <th>Sales</th>\n",
       "      <th>Customers</th>\n",
       "      <th>Open</th>\n",
       "      <th>Promo</th>\n",
       "      <th>StateHoliday</th>\n",
       "      <th>SchoolHoliday</th>\n",
       "    </tr>\n",
       "  </thead>\n",
       "  <tbody>\n",
       "    <tr>\n",
       "      <th>27</th>\n",
       "      <td>2013-01-01</td>\n",
       "      <td>353.0</td>\n",
       "      <td>2</td>\n",
       "      <td>3139.0</td>\n",
       "      <td>820.0</td>\n",
       "      <td>1.0</td>\n",
       "      <td>0.0</td>\n",
       "      <td>a</td>\n",
       "      <td>1.0</td>\n",
       "    </tr>\n",
       "    <tr>\n",
       "      <th>115</th>\n",
       "      <td>2013-01-01</td>\n",
       "      <td>335.0</td>\n",
       "      <td>2</td>\n",
       "      <td>2401.0</td>\n",
       "      <td>482.0</td>\n",
       "      <td>1.0</td>\n",
       "      <td>0.0</td>\n",
       "      <td>a</td>\n",
       "      <td>1.0</td>\n",
       "    </tr>\n",
       "    <tr>\n",
       "      <th>145</th>\n",
       "      <td>2013-01-01</td>\n",
       "      <td>512.0</td>\n",
       "      <td>2</td>\n",
       "      <td>2646.0</td>\n",
       "      <td>625.0</td>\n",
       "      <td>1.0</td>\n",
       "      <td>0.0</td>\n",
       "      <td>a</td>\n",
       "      <td>1.0</td>\n",
       "    </tr>\n",
       "    <tr>\n",
       "      <th>160</th>\n",
       "      <td>2013-01-01</td>\n",
       "      <td>494.0</td>\n",
       "      <td>2</td>\n",
       "      <td>3113.0</td>\n",
       "      <td>527.0</td>\n",
       "      <td>1.0</td>\n",
       "      <td>0.0</td>\n",
       "      <td>a</td>\n",
       "      <td>1.0</td>\n",
       "    </tr>\n",
       "    <tr>\n",
       "      <th>194</th>\n",
       "      <td>2013-01-01</td>\n",
       "      <td>530.0</td>\n",
       "      <td>2</td>\n",
       "      <td>2907.0</td>\n",
       "      <td>532.0</td>\n",
       "      <td>1.0</td>\n",
       "      <td>0.0</td>\n",
       "      <td>a</td>\n",
       "      <td>1.0</td>\n",
       "    </tr>\n",
       "  </tbody>\n",
       "</table>\n",
       "</div>"
      ],
      "text/plain": [
       "           Date  Store  DayOfWeek   Sales  Customers  Open  Promo  \\\n",
       "27   2013-01-01  353.0          2  3139.0      820.0   1.0    0.0   \n",
       "115  2013-01-01  335.0          2  2401.0      482.0   1.0    0.0   \n",
       "145  2013-01-01  512.0          2  2646.0      625.0   1.0    0.0   \n",
       "160  2013-01-01  494.0          2  3113.0      527.0   1.0    0.0   \n",
       "194  2013-01-01  530.0          2  2907.0      532.0   1.0    0.0   \n",
       "\n",
       "    StateHoliday  SchoolHoliday  \n",
       "27             a            1.0  \n",
       "115            a            1.0  \n",
       "145            a            1.0  \n",
       "160            a            1.0  \n",
       "194            a            1.0  "
      ]
     },
     "execution_count": 6,
     "metadata": {},
     "output_type": "execute_result"
    }
   ],
   "source": [
    "# Column overview\n",
    "no_null_sales.head()"
   ]
  },
  {
   "cell_type": "code",
   "execution_count": 7,
   "metadata": {},
   "outputs": [
    {
     "data": {
      "image/png": "[encoded data removed]",
      "text/plain": [
       "<Figure size 432x288 with 1 Axes>"
      ]
     },
     "metadata": {
      "needs_background": "light"
     },
     "output_type": "display_data"
    }
   ],
   "source": [
    "# Most stores average between 2500 and 10000 in daily sales. A few outliers average up to 22500. \n",
    "sales_by_store = no_null_sales.groupby('Store').mean().loc[:,'Sales'].sort_values(ascending=False)\n",
    "plt.hist(sales_by_store.values)\n",
    "plt.xlabel('Sales')\n",
    "plt.ylabel('Number of stores')\n",
    "plt.show()"
   ]
  },
  {
   "cell_type": "code",
   "execution_count": 8,
   "metadata": {},
   "outputs": [
    {
     "data": {
      "image/png": "[encoded data removed]",
      "text/plain": [
       "<Figure size 432x288 with 1 Axes>"
      ]
     },
     "metadata": {
      "needs_background": "light"
     },
     "output_type": "display_data"
    }
   ],
   "source": [
    "# Sales are highest on Mondays and Sundays\n",
    "sales_by_weekday = no_null_sales.groupby('DayOfWeek').mean().loc[:,'Sales'].sort_values(ascending=False)\n",
    "plt.bar(height=sales_by_weekday.values, x=sales_by_weekday.index)\n",
    "plt.ylabel('Sales')\n",
    "plt.xlabel('Day of Week (Monday - Sunday)')\n",
    "plt.show()"
   ]
  },
  {
   "cell_type": "code",
   "execution_count": 9,
   "metadata": {},
   "outputs": [
    {
     "data": {
      "image/png": "[encoded data removed]",
      "text/plain": [
       "<Figure size 432x288 with 1 Axes>"
      ]
     },
     "metadata": {
      "needs_background": "light"
     },
     "output_type": "display_data"
    }
   ],
   "source": [
    "# Sales are much higher on days with promo\n",
    "sales_by_promo = no_null_sales.groupby('Promo').mean().loc[:,'Sales'].sort_values(ascending=False)\n",
    "plt.bar(height=sales_by_promo.values, x=[0,1])\n",
    "plt.xticks([0,1], labels=['Promo', 'No promo'])\n",
    "plt.ylabel('Sales')\n",
    "plt.show()"
   ]
  },
  {
   "cell_type": "code",
   "execution_count": 10,
   "metadata": {},
   "outputs": [
    {
     "data": {
      "image/png": "[encoded data removed]",
      "text/plain": [
       "<Figure size 432x288 with 1 Axes>"
      ]
     },
     "metadata": {
      "needs_background": "light"
     },
     "output_type": "display_data"
    }
   ],
   "source": [
    "# School holidays make very little difference\n",
    "sales_by_school_holiday = no_null_sales.groupby('SchoolHoliday').mean().loc[:,'Sales'].sort_values(ascending=False)\n",
    "plt.bar(height=sales_by_school_holiday, x=[0,1])\n",
    "plt.xticks([0,1], labels=['School Holiday', 'No school holiday'])\n",
    "plt.ylabel('Sales')\n",
    "plt.show()"
   ]
  },
  {
   "cell_type": "code",
   "execution_count": 11,
   "metadata": {},
   "outputs": [],
   "source": [
    "no_null_sales.loc[no_null_sales['StateHoliday'] == 0, 'StateHoliday'] = '0'"
   ]
  },
  {
   "cell_type": "code",
   "execution_count": 12,
   "metadata": {},
   "outputs": [
    {
     "data": {
      "image/png": "[encoded data removed]",
      "text/plain": [
       "<Figure size 432x288 with 1 Axes>"
      ]
     },
     "metadata": {
      "needs_background": "light"
     },
     "output_type": "display_data"
    }
   ],
   "source": [
    "# State holidays seem to make a difference\n",
    "sales_by_state_holiday = no_null_sales.groupby('StateHoliday').mean().loc[:,'Sales'].sort_values(ascending=False)\n",
    "plt.bar(height=sales_by_state_holiday.values, x=sales_by_state_holiday.index)\n",
    "plt.xlabel('State Holiday')\n",
    "plt.ylabel('Sales')\n",
    "plt.show()"
   ]
  },
  {
   "cell_type": "code",
   "execution_count": 13,
   "metadata": {},
   "outputs": [
    {
     "data": {
      "image/png": "[encoded data removed]",
      "text/plain": [
       "<Figure size 1440x360 with 1 Axes>"
      ]
     },
     "metadata": {
      "needs_background": "light"
     },
     "output_type": "display_data"
    }
   ],
   "source": [
    "# In this sales timeline, there's a clear pattern repeating itself, and a slight uptick in sales in December\n",
    "sales_by_date = no_null_sales.groupby('Date').mean().loc[:,'Sales']\n",
    "plt.figure(figsize=(20,5))\n",
    "plt.bar(height=sales_by_date.values, x=sales_by_date.index)\n",
    "plt.xticks(range(0,600,45))\n",
    "plt.ylabel('Sales')\n",
    "plt.show()"
   ]
  },
  {
   "cell_type": "code",
   "execution_count": 14,
   "metadata": {},
   "outputs": [
    {
     "data": {
      "image/png": "[encoded data removed]",
      "text/plain": [
       "<Figure size 1080x576 with 2 Axes>"
      ]
     },
     "metadata": {
      "needs_background": "light"
     },
     "output_type": "display_data"
    }
   ],
   "source": [
    "# Attempting to decompose it into Trend and Seasonality. There's weekly seasonality. \n",
    "# December has higher sales. \n",
    "# There also seems to be a biweekly seasonality - could - this be the promo feature?\n",
    "from statsmodels.tsa.seasonal import seasonal_decompose\n",
    "sales_by_date.index = pd.to_datetime(sales_by_date.index)\n",
    "res = seasonal_decompose(sales_by_date, model='additive', period=14)\n",
    "fig, (ax1,ax2) = plt.subplots(2,1, figsize=(15,8))\n",
    "ax1.set_title('Trend')\n",
    "res.trend.plot(ax=ax1)\n",
    "ax2.set_title('Seasonality')\n",
    "res.seasonal.plot(ax=ax2)\n",
    "plt.show()"
   ]
  },
  {
   "cell_type": "markdown",
   "metadata": {},
   "source": [
    "## Baseline 1\n",
    "\n",
    "Let's see how good a score we can get when just predicting the mean sales for each store"
   ]
  },
  {
   "cell_type": "code",
   "execution_count": 15,
   "metadata": {},
   "outputs": [
    {
     "data": {
      "text/plain": [
       "28.10451297005833"
      ]
     },
     "execution_count": 15,
     "metadata": {},
     "output_type": "execute_result"
    }
   ],
   "source": [
    "X = no_null_sales[['Store']]\n",
    "y = no_null_sales['Sales']\n",
    "from sklearn.model_selection import train_test_split\n",
    "X_train,X_test,y_train,y_test = train_test_split(X,y,test_size=0.2,random_state=42)\n",
    "lazy_est = pd.concat([X_train, y_train], axis=1)\n",
    "lazy_est = lazy_est.groupby(['Store']).mean()\n",
    "preds = X_test.merge(lazy_est, how = 'left', on = 'Store').loc[:, 'Sales']\n",
    "actuals = np.array(y_test)\n",
    "get_score(actuals, preds)"
   ]
  },
  {
   "cell_type": "markdown",
   "metadata": {},
   "source": [
    "## Baseline 2\n",
    "What it we take the mean for each store and weekday?"
   ]
  },
  {
   "cell_type": "code",
   "execution_count": 16,
   "metadata": {},
   "outputs": [
    {
     "data": {
      "text/plain": [
       "23.363506982930037"
      ]
     },
     "execution_count": 16,
     "metadata": {},
     "output_type": "execute_result"
    }
   ],
   "source": [
    "X = no_null_sales[['Store', 'DayOfWeek']]\n",
    "y = no_null_sales['Sales']\n",
    "X_train,X_test,y_train,y_test = train_test_split(X,y,test_size=0.2,random_state=42)\n",
    "lazy_est = pd.concat([X_train, y_train], axis=1)\n",
    "lazy_est = lazy_est.groupby(['Store', 'DayOfWeek']).mean()\n",
    "preds = X_test.merge(lazy_est, how = 'left', on = ['Store', 'DayOfWeek']).loc[:, 'Sales']\n",
    "actuals = np.array(y_test)\n",
    "get_score(actuals, preds)"
   ]
  },
  {
   "cell_type": "markdown",
   "metadata": {},
   "source": [
    "## Baseline 3\n",
    "\n",
    "Promo also seemed important, what if we add it?"
   ]
  },
  {
   "cell_type": "code",
   "execution_count": 17,
   "metadata": {},
   "outputs": [
    {
     "data": {
      "text/plain": [
       "17.54769843922765"
      ]
     },
     "execution_count": 17,
     "metadata": {},
     "output_type": "execute_result"
    }
   ],
   "source": [
    "X = no_null_sales[['Store', 'DayOfWeek', 'Promo']]\n",
    "y = no_null_sales['Sales']\n",
    "X_train,X_test,y_train,y_test = train_test_split(X,y,test_size=0.2,random_state=42)\n",
    "lazy_est = pd.concat([X_train, y_train], axis=1)\n",
    "lazy_est = lazy_est.groupby(['Store', 'DayOfWeek', 'Promo']).mean()\n",
    "preds = X_test.merge(lazy_est, how = 'left', on = ['Store', 'DayOfWeek', 'Promo']).loc[:, 'Sales']\n",
    "actuals = np.array(y_test)\n",
    "get_score(actuals, preds)"
   ]
  },
  {
   "cell_type": "markdown",
   "metadata": {},
   "source": [
    "## Random Forest experiments\n",
    "\n",
    "Surely a sophisticated Machine Learning model must beat our baseline?"
   ]
  },
  {
   "cell_type": "code",
   "execution_count": 18,
   "metadata": {},
   "outputs": [],
   "source": [
    "from sklearn.model_selection import train_test_split\n",
    "from sklearn.ensemble import RandomForestRegressor"
   ]
  },
  {
   "cell_type": "code",
   "execution_count": 19,
   "metadata": {},
   "outputs": [],
   "source": [
    "# For quicker iteration speed, we'll work with a subset of 20 % of the data\n",
    "sample = no_null_sales.sample(frac = 0.2, random_state = 42)"
   ]
  },
  {
   "cell_type": "code",
   "execution_count": 20,
   "metadata": {},
   "outputs": [],
   "source": [
    "def run_random_forest(rf_set):\n",
    "    X = rf_set.drop('Sales', axis = 1)\n",
    "    y = rf_set['Sales']\n",
    "    X_train,X_test,y_train,y_test = train_test_split(X,y,test_size=0.2,random_state=42)\n",
    "    rf = RandomForestRegressor(random_state=42)\n",
    "    rf.fit(X_train, y_train)\n",
    "    preds = rf.predict(X_test)\n",
    "    actuals = np.array(y_test)\n",
    "    return get_score(actuals, preds)"
   ]
  },
  {
   "cell_type": "markdown",
   "metadata": {},
   "source": [
    "Generally in time series, we use the last part of our sequence as validation data. For example, if you have 12 months of data, you may train on the first 10 and validate on the last 2. In this case, we didn't do this. We used the general ML approach of picking out random samples. The reason is that the competition will ultimately be judged on 12 months of data. So if we validate on and optimize for 2 specific months, we run the risk of failing to accurately predict the remaining 10 months. One could argue for and against this approach. The beauty of working under time pressure is that we don't have time to argue right now. "
   ]
  },
  {
   "cell_type": "code",
   "execution_count": 21,
   "metadata": {},
   "outputs": [
    {
     "data": {
      "text/plain": [
       "24.288921773426495"
      ]
     },
     "execution_count": 21,
     "metadata": {},
     "output_type": "execute_result"
    }
   ],
   "source": [
    "# Without promo, schoolHoliday and Stateholiday\n",
    "rf_set = sample.drop(['Date', 'Customers', 'SchoolHoliday','StateHoliday', 'Promo'], axis = 1)\n",
    "run_random_forest(rf_set)"
   ]
  },
  {
   "cell_type": "code",
   "execution_count": 22,
   "metadata": {},
   "outputs": [
    {
     "data": {
      "text/plain": [
       "18.68212215643297"
      ]
     },
     "execution_count": 22,
     "metadata": {},
     "output_type": "execute_result"
    }
   ],
   "source": [
    "# With Promo\n",
    "rf_set = sample.drop(['Date', 'Customers', 'SchoolHoliday', 'StateHoliday'], axis = 1)\n",
    "run_random_forest(rf_set)"
   ]
  },
  {
   "cell_type": "code",
   "execution_count": 23,
   "metadata": {},
   "outputs": [
    {
     "data": {
      "text/plain": [
       "18.640023910645745"
      ]
     },
     "execution_count": 23,
     "metadata": {},
     "output_type": "execute_result"
    }
   ],
   "source": [
    "# With State Holiday lazily encoded to 1 or 0\n",
    "rf_set = sample.drop(['Date', 'Customers', 'SchoolHoliday'], axis = 1)\n",
    "rf_set.loc[:,'StateHoliday'] = rf_set.loc[:,'StateHoliday'].apply(lambda x: 0 if x=='0' else 1)\n",
    "run_random_forest(rf_set)"
   ]
  },
  {
   "cell_type": "code",
   "execution_count": 24,
   "metadata": {},
   "outputs": [
    {
     "data": {
      "text/plain": [
       "18.64623193915348"
      ]
     },
     "execution_count": 24,
     "metadata": {},
     "output_type": "execute_result"
    }
   ],
   "source": [
    "# With State Holiday mean encoded\n",
    "rf_set = sample.drop(['Date', 'Customers', 'SchoolHoliday'], axis = 1)\n",
    "rf_set['StateHoliday'] = mean_encoder(rf_set, 'StateHoliday')\n",
    "run_random_forest(rf_set)"
   ]
  },
  {
   "cell_type": "code",
   "execution_count": 25,
   "metadata": {},
   "outputs": [
    {
     "data": {
      "text/plain": [
       "18.989837955933144"
      ]
     },
     "execution_count": 25,
     "metadata": {},
     "output_type": "execute_result"
    }
   ],
   "source": [
    "# With SchoolHoliday, and State Holiday lazily encoded to 1 or 0\n",
    "rf_set = sample.drop(['Date', 'Customers'], axis = 1)\n",
    "rf_set.loc[:,'StateHoliday'] = rf_set.loc[:,'StateHoliday'].apply(lambda x: 0 if x=='0' else 1)\n",
    "run_random_forest(rf_set)"
   ]
  },
  {
   "cell_type": "code",
   "execution_count": 26,
   "metadata": {},
   "outputs": [],
   "source": [
    "sample['Date'] = pd.to_datetime(sample['Date'])\n",
    "sample['Month'] = sample['Date'].dt.month"
   ]
  },
  {
   "cell_type": "code",
   "execution_count": 27,
   "metadata": {},
   "outputs": [
    {
     "data": {
      "text/plain": [
       "22.452682850659013"
      ]
     },
     "execution_count": 27,
     "metadata": {},
     "output_type": "execute_result"
    }
   ],
   "source": [
    "# With Month \n",
    "rf_set = sample.drop(['Date', 'Customers', 'SchoolHoliday'], axis = 1)\n",
    "rf_set.loc[:,'StateHoliday'] = rf_set.loc[:,'StateHoliday'].apply(lambda x: 0 if x=='0' else 1)\n",
    "run_random_forest(rf_set)"
   ]
  },
  {
   "cell_type": "code",
   "execution_count": 28,
   "metadata": {},
   "outputs": [
    {
     "data": {
      "text/plain": [
       "19.223571466230517"
      ]
     },
     "execution_count": 28,
     "metadata": {},
     "output_type": "execute_result"
    }
   ],
   "source": [
    "# With month encoded to identify december (sales appear to be higher in december)\n",
    "rf_set = sample.drop(['Date', 'Customers', 'SchoolHoliday'], axis = 1)\n",
    "rf_set.loc[rf_set['Month'] != 12, 'Month'] = 0\n",
    "rf_set.loc[rf_set['Month'] == 12, 'Month'] = 1\n",
    "rf_set.loc[:,'StateHoliday'] = rf_set.loc[:,'StateHoliday'].apply(lambda x: 0 if x=='0' else 1)\n",
    "run_random_forest(rf_set)"
   ]
  },
  {
   "cell_type": "code",
   "execution_count": 29,
   "metadata": {},
   "outputs": [
    {
     "data": {
      "text/plain": [
       "18.605774331237455"
      ]
     },
     "execution_count": 29,
     "metadata": {},
     "output_type": "execute_result"
    }
   ],
   "source": [
    "# Store mean-encoded\n",
    "rf_set = sample.drop(['Date', 'Customers', 'SchoolHoliday', 'Month'], axis = 1)\n",
    "rf_set['Store'] = mean_encoder(rf_set, 'Store')\n",
    "rf_set.loc[:,'StateHoliday'] = rf_set.loc[:,'StateHoliday'].apply(lambda x: 0 if x=='0' else 1)\n",
    "run_random_forest(rf_set)"
   ]
  },
  {
   "cell_type": "code",
   "execution_count": 30,
   "metadata": {},
   "outputs": [
    {
     "data": {
      "text/plain": [
       "18.61519850903166"
      ]
     },
     "execution_count": 30,
     "metadata": {},
     "output_type": "execute_result"
    }
   ],
   "source": [
    "#Weekday mean-encoded\n",
    "rf_set = sample.drop(['Date', 'Customers', 'SchoolHoliday', 'Month'], axis = 1)\n",
    "rf_set.loc[:,'StateHoliday'] = rf_set.loc[:,'StateHoliday'].apply(lambda x: 0 if x=='0' else 1)\n",
    "rf_set['Store'] = mean_encoder(rf_set, 'Store')\n",
    "rf_set['DayOfWeek'] = mean_encoder(rf_set, 'DayOfWeek')\n",
    "run_random_forest(rf_set)"
   ]
  },
  {
   "cell_type": "code",
   "execution_count": 31,
   "metadata": {},
   "outputs": [],
   "source": [
    "## DON'T RUN!!\n",
    "## Making dayBeforeHoliday feature, didn't help \n",
    "\n",
    "# aDay = datetime.timedelta(days = 1)\n",
    "\n",
    "# sample2 = no_null_sales.copy()\n",
    "# sample2.loc[:,'StateHoliday'] = sample2.loc[:,'StateHoliday'].apply(lambda x: 0 if x=='0' else 1)\n",
    "# mapping = sample2.groupby(['Date']).mean()['StateHoliday']\n",
    "# sample2.loc[:,'DayBeforeHoliday'] = 0\n",
    "# for i, row in sample2.iterrows():\n",
    "#     if i == 0:\n",
    "#         print('Hi!')\n",
    "#     else:\n",
    "#         date1 = str(row['Date'])\n",
    "#         date2 = str(row['Date'] + aDay)\n",
    "#         if mapping.loc[date2] > 0.5 and mapping.loc[date1] == 0:\n",
    "#             sample2.loc[i, 'DayBeforeHoliday'] = 1\n",
    "# #With DayBeforeHoliday\n",
    "\n",
    "# with_dbh = sample2.sample(frac = 0.2, random_state = 42)\n",
    "\n",
    "# rf_set = with_dbh.drop(['Date', 'Customers', 'SchoolHoliday'], axis = 1)\n",
    "# rf_set['StateHoliday'] = mean_encoder(rf_set, 'StateHoliday')\n",
    "#run_random_forest(rf_set)"
   ]
  },
  {
   "cell_type": "code",
   "execution_count": 32,
   "metadata": {},
   "outputs": [
    {
     "data": {
      "text/plain": [
       "18.611558631325654"
      ]
     },
     "execution_count": 32,
     "metadata": {},
     "output_type": "execute_result"
    }
   ],
   "source": [
    "# Store and StateHoliday mean-encoded\n",
    "rf_set = sample.drop(['Date', 'Customers', 'SchoolHoliday', 'Month'], axis = 1)\n",
    "rf_set['Store'] = mean_encoder(rf_set, 'Store')\n",
    "rf_set['StateHoliday'] = mean_encoder(rf_set, 'StateHoliday')\n",
    "run_random_forest(rf_set)"
   ]
  },
  {
   "cell_type": "code",
   "execution_count": 33,
   "metadata": {},
   "outputs": [
    {
     "data": {
      "text/plain": [
       "16.80741609279901"
      ]
     },
     "execution_count": 33,
     "metadata": {},
     "output_type": "execute_result"
    }
   ],
   "source": [
    "# Adding the December feature again\n",
    "rf_set = sample.drop(['Date', 'Customers', 'SchoolHoliday'], axis = 1)\n",
    "rf_set['Store'] = mean_encoder(rf_set, 'Store')\n",
    "rf_set['StateHoliday'] = mean_encoder(rf_set, 'StateHoliday')\n",
    "rf_set.loc[rf_set['Month'] != 12, 'Month'] = 0\n",
    "rf_set.loc[rf_set['Month'] == 12, 'Month'] = 1\n",
    "run_random_forest(rf_set)"
   ]
  },
  {
   "cell_type": "code",
   "execution_count": 34,
   "metadata": {},
   "outputs": [
    {
     "data": {
      "text/plain": [
       "16.693129411116182"
      ]
     },
     "execution_count": 34,
     "metadata": {},
     "output_type": "execute_result"
    }
   ],
   "source": [
    "# Adding SchoolHoliday\n",
    "rf_set = sample.drop(['Date', 'Customers'], axis = 1)\n",
    "rf_set['Store'] = mean_encoder(rf_set, 'Store')\n",
    "rf_set['StateHoliday'] = mean_encoder(rf_set, 'StateHoliday')\n",
    "rf_set.loc[rf_set['Month'] != 12, 'Month'] = 0\n",
    "rf_set.loc[rf_set['Month'] == 12, 'Month'] = 1\n",
    "run_random_forest(rf_set)"
   ]
  },
  {
   "cell_type": "code",
   "execution_count": 35,
   "metadata": {},
   "outputs": [
    {
     "data": {
      "text/plain": [
       "16.692253433563366"
      ]
     },
     "execution_count": 35,
     "metadata": {},
     "output_type": "execute_result"
    }
   ],
   "source": [
    "# Adding SchoolHoliday\n",
    "rf_set = sample.drop(['Date', 'Customers'], axis = 1)\n",
    "rf_set['Store'] = mean_encoder(rf_set, 'Store')\n",
    "rf_set.loc[:,'StateHoliday'] = rf_set.loc[:,'StateHoliday'].apply(lambda x: 0 if x=='0' else 1)\n",
    "rf_set.loc[rf_set['Month'] != 12, 'Month'] = 0\n",
    "rf_set.loc[rf_set['Month'] == 12, 'Month'] = 1\n",
    "run_random_forest(rf_set)"
   ]
  },
  {
   "cell_type": "markdown",
   "metadata": {},
   "source": [
    "## Merging dataframes and adding features\n",
    "\n",
    "Finally we've beaten the baseline! Let's keep exploring features. "
   ]
  },
  {
   "cell_type": "code",
   "execution_count": 36,
   "metadata": {},
   "outputs": [],
   "source": [
    "no_null_sales = no_null_sales.merge(stores, how='left', on='Store')\n",
    "# Seems a null value or two snuck in there. We can go back and fix them later if we have time.\n",
    "no_null_sales.fillna(0, inplace = True)\n",
    "sample = no_null_sales.sample(frac = 0.2, random_state = 42)\n",
    "sample['Date'] = pd.to_datetime(sample['Date'])\n",
    "sample['Month'] = sample['Date'].dt.month"
   ]
  },
  {
   "cell_type": "code",
   "execution_count": 37,
   "metadata": {},
   "outputs": [
    {
     "data": {
      "text/plain": [
       "16.55832040078888"
      ]
     },
     "execution_count": 37,
     "metadata": {},
     "output_type": "execute_result"
    }
   ],
   "source": [
    "# Adding CompetitionDistance\n",
    "rf_set = sample.drop(['Date', 'Customers', 'StoreType', 'Assortment'], axis = 1)\n",
    "rf_set['Store'] = mean_encoder(rf_set, 'Store')\n",
    "rf_set['StateHoliday'] = mean_encoder(rf_set, 'StateHoliday')\n",
    "rf_set.loc[rf_set['Month'] != 12, 'Month'] = 0\n",
    "rf_set.loc[rf_set['Month'] == 12, 'Month'] = 1\n",
    "run_random_forest(rf_set)"
   ]
  },
  {
   "cell_type": "code",
   "execution_count": 40,
   "metadata": {},
   "outputs": [
    {
     "data": {
      "text/plain": [
       "16.48160561531015"
      ]
     },
     "execution_count": 40,
     "metadata": {},
     "output_type": "execute_result"
    }
   ],
   "source": [
    "# Adding StoreType, mean encoded\n",
    "# If the mean encoder doesn't work, just rerun the cell with the helper functions in the beginning\n",
    "rf_set = sample.drop(['Date', 'Customers', 'Assortment'], axis = 1)\n",
    "rf_set['Store'] = mean_encoder(rf_set, 'Store')\n",
    "rf_set['StateHoliday'] = mean_encoder(rf_set, 'StateHoliday')\n",
    "rf_set['StoreType'] = mean_encoder(rf_set, 'StoreType')\n",
    "rf_set.loc[rf_set['Month'] != 12, 'Month'] = 0\n",
    "rf_set.loc[rf_set['Month'] == 12, 'Month'] = 1\n",
    "run_random_forest(rf_set)"
   ]
  },
  {
   "cell_type": "code",
   "execution_count": 41,
   "metadata": {},
   "outputs": [
    {
     "data": {
      "text/plain": [
       "16.464164531186846"
      ]
     },
     "execution_count": 41,
     "metadata": {},
     "output_type": "execute_result"
    }
   ],
   "source": [
    "# Adding Assortment, mean encoded\n",
    "rf_set = sample.drop(['Date', 'Customers'], axis = 1)\n",
    "rf_set['Store'] = mean_encoder(rf_set, 'Store')\n",
    "rf_set['StoreType'] = mean_encoder(rf_set, 'StoreType')\n",
    "rf_set['Assortment'] = mean_encoder(rf_set, 'Assortment')\n",
    "rf_set['StateHoliday'] = mean_encoder(rf_set, 'StateHoliday')\n",
    "rf_set.loc[rf_set['Month'] != 12, 'Month'] = 0\n",
    "rf_set.loc[rf_set['Month'] == 12, 'Month'] = 1\n",
    "run_random_forest(rf_set)"
   ]
  },
  {
   "cell_type": "code",
   "execution_count": 42,
   "metadata": {},
   "outputs": [
    {
     "data": {
      "image/png": "[encoded data removed]",
      "text/plain": [
       "<Figure size 432x288 with 1 Axes>"
      ]
     },
     "metadata": {
      "needs_background": "light"
     },
     "output_type": "display_data"
    },
    {
     "data": {
      "image/png": "[encoded data removed]",
      "text/plain": [
       "<Figure size 432x288 with 1 Axes>"
      ]
     },
     "metadata": {
      "needs_background": "light"
     },
     "output_type": "display_data"
    }
   ],
   "source": [
    "# Visualizing sales by weekday with and without promo - could there be a pattern?\n",
    "promo_sales = no_null_sales.loc[no_null_sales.loc[:,'Promo'] == 1]\n",
    "no_promo_sales = no_null_sales.loc[no_null_sales.loc[:,'Promo'] == 0]\n",
    "\n",
    "sales_by_weekday_with_promo = promo_sales.groupby('DayOfWeek').mean().loc[:,'Sales'].sort_values(ascending=False)\n",
    "plt.bar(height=sales_by_weekday_with_promo.values, x=sales_by_weekday_with_promo.index)\n",
    "plt.ylabel('Sales')\n",
    "plt.xlabel('Day of Week (Monday - Sunday)')\n",
    "plt.title('Sales with promo')\n",
    "plt.xticks(range(1,8))\n",
    "plt.show()\n",
    "\n",
    "sales_by_weekday_no_promo = no_promo_sales.groupby('DayOfWeek').mean().loc[:,'Sales'].sort_values(ascending=False)\n",
    "plt.bar(height=sales_by_weekday_no_promo.values, x=sales_by_weekday_no_promo.index)\n",
    "plt.ylabel('Sales')\n",
    "plt.xlabel('Day of Week (Monday - Sunday)')\n",
    "plt.title('Sales without promo')\n",
    "plt.show()"
   ]
  },
  {
   "cell_type": "code",
   "execution_count": 43,
   "metadata": {},
   "outputs": [
    {
     "data": {
      "text/plain": [
       "16.465605491730216"
      ]
     },
     "execution_count": 43,
     "metadata": {},
     "output_type": "execute_result"
    }
   ],
   "source": [
    "# Monday's higher sales seem to only occur when there's also a promo happening\n",
    "# Adding PromoMonday feature\n",
    "# Seems it didn't help\n",
    "rf_set = sample.drop(['Date', 'Customers'], axis = 1)\n",
    "rf_set['Store'] = mean_encoder(rf_set, 'Store')\n",
    "rf_set['StoreType'] = mean_encoder(rf_set, 'StoreType')\n",
    "rf_set['Assortment'] = mean_encoder(rf_set, 'Assortment')\n",
    "rf_set['StateHoliday'] = mean_encoder(rf_set, 'StateHoliday')\n",
    "rf_set['PromoMonday'] = 0\n",
    "rf_set.loc[(rf_set['Promo'] == 1) & (rf_set['DayOfWeek'] == 1), 'PromoMonday'] = 1\n",
    "rf_set.loc[rf_set['Month'] != 12, 'Month'] = 0\n",
    "rf_set.loc[rf_set['Month'] == 12, 'Month'] = 1\n",
    "run_random_forest(rf_set)"
   ]
  },
  {
   "cell_type": "markdown",
   "metadata": {},
   "source": [
    "## Outlier removal"
   ]
  },
  {
   "cell_type": "code",
   "execution_count": 44,
   "metadata": {},
   "outputs": [],
   "source": [
    "def run_random_forest(rf_set, min_train_sales=None, max_train_sales=None):\n",
    "    X = rf_set.drop('Sales', axis = 1)\n",
    "    y = rf_set['Sales']\n",
    "    X_train,X_test,y_train,y_test = train_test_split(X,y,test_size=0.2,random_state=42)\n",
    "    if min_train_sales:\n",
    "        mask = y_train > min_train_sales\n",
    "        X_train = X_train[mask]\n",
    "        y_train = y_train[mask]\n",
    "    if max_train_sales:\n",
    "        mask = y_train < max_train_sales\n",
    "        X_train = X_train[mask]\n",
    "        y_train = y_train[mask]\n",
    "    rf = RandomForestRegressor(random_state=42)\n",
    "    rf.fit(X_train, y_train)\n",
    "    preds = rf.predict(X_test)\n",
    "    actuals = np.array(y_test)\n",
    "    return get_score(actuals, preds)"
   ]
  },
  {
   "cell_type": "code",
   "execution_count": 51,
   "metadata": {},
   "outputs": [
    {
     "name": "stdout",
     "output_type": "stream",
     "text": [
      "Threshold: 0, Score: 16.464164531186846\n",
      "Threshold: 200, Score: 16.464164531186846\n",
      "Threshold: 400, Score: 16.464164531186846\n",
      "Threshold: 600, Score: 16.460445731114365\n",
      "Threshold: 800, Score: 16.444206154252505\n",
      "Threshold: 1000, Score: 16.41346195932162\n",
      "Threshold: 1200, Score: 16.41131359845359\n",
      "Threshold: 1400, Score: 16.42050510682822\n",
      "Threshold: 1600, Score: 16.452961685679437\n",
      "Threshold: 1800, Score: 16.47789998702518\n"
     ]
    }
   ],
   "source": [
    "# Removing outliers with very low sales\n",
    "rf_set = sample.drop(['Date', 'Customers'], axis = 1)\n",
    "rf_set['Store'] = mean_encoder(rf_set, 'Store')\n",
    "rf_set['StoreType'] = mean_encoder(rf_set, 'StoreType')\n",
    "rf_set['Assortment'] = mean_encoder(rf_set, 'Assortment')\n",
    "rf_set['StateHoliday'] = mean_encoder(rf_set, 'StateHoliday')\n",
    "rf_set.loc[rf_set['Month'] != 12, 'Month'] = 0\n",
    "rf_set.loc[rf_set['Month'] == 12, 'Month'] = 1\n",
    "\n",
    "for min_train_sales in range(0,2000,200):\n",
    "    score = run_random_forest(rf_set, min_train_sales=min_train_sales)\n",
    "    print(f'Threshold: {min_train_sales}, Score: {score}')"
   ]
  },
  {
   "cell_type": "code",
   "execution_count": 56,
   "metadata": {},
   "outputs": [
    {
     "name": "stdout",
     "output_type": "stream",
     "text": [
      "Threshold: 15000, Score: 17.72892416711049\n",
      "Threshold: 16000, Score: 17.27083701205255\n",
      "Threshold: 17000, Score: 16.94386581075713\n",
      "Threshold: 18000, Score: 16.77633637007344\n",
      "Threshold: 19000, Score: 16.60336802273872\n",
      "Threshold: 20000, Score: 16.505730338162564\n",
      "Threshold: 21000, Score: 16.492549505142204\n",
      "Threshold: 22000, Score: 16.474920731894635\n",
      "Threshold: 23000, Score: 16.461125417886084\n",
      "Threshold: 24000, Score: 16.460868693959636\n",
      "Threshold: 25000, Score: 16.474588182982295\n",
      "Threshold: 26000, Score: 16.457119015736467\n"
     ]
    }
   ],
   "source": [
    "# Removing outliers with very high sales, didn't help\n",
    "rf_set = sample.drop(['Date', 'Customers'], axis = 1)\n",
    "rf_set['Store'] = mean_encoder(rf_set, 'Store')\n",
    "rf_set['StoreType'] = mean_encoder(rf_set, 'StoreType')\n",
    "rf_set['Assortment'] = mean_encoder(rf_set, 'Assortment')\n",
    "rf_set['StateHoliday'] = mean_encoder(rf_set, 'StateHoliday')\n",
    "rf_set.loc[rf_set['Month'] != 12, 'Month'] = 0\n",
    "rf_set.loc[rf_set['Month'] == 12, 'Month'] = 1\n",
    "\n",
    "for max_train_sales in range(15000,27000,1000):\n",
    "    score = run_random_forest(rf_set, min_train_sales=1200, max_train_sales=max_train_sales)\n",
    "    print(f'Threshold: {max_train_sales}, Score: {score}')"
   ]
  },
  {
   "cell_type": "markdown",
   "metadata": {},
   "source": [
    "## Hyperparameter tuning"
   ]
  },
  {
   "cell_type": "code",
   "execution_count": 58,
   "metadata": {},
   "outputs": [
    {
     "data": {
      "text/plain": [
       "16.408135800660187"
      ]
     },
     "execution_count": 58,
     "metadata": {},
     "output_type": "execute_result"
    }
   ],
   "source": [
    "# Starting point\n",
    "\n",
    "rf_set = sample.drop(['Date', 'Customers'], axis = 1)\n",
    "rf_set['Store'] = mean_encoder(rf_set, 'Store')\n",
    "rf_set['StoreType'] = mean_encoder(rf_set, 'StoreType')\n",
    "rf_set['Assortment'] = mean_encoder(rf_set, 'Assortment')\n",
    "rf_set.loc[:,'StateHoliday'] = rf_set.loc[:,'StateHoliday'].apply(lambda x: 0 if x=='0' else 1)\n",
    "rf_set.loc[rf_set['Month'] != 12, 'Month'] = 0\n",
    "rf_set.loc[rf_set['Month'] == 12, 'Month'] = 1\n",
    "\n",
    "run_random_forest(rf_set, min_train_sales=1200)"
   ]
  },
  {
   "cell_type": "code",
   "execution_count": 62,
   "metadata": {
    "collapsed": true
   },
   "outputs": [
    {
     "ename": "KeyboardInterrupt",
     "evalue": "",
     "output_type": "error",
     "traceback": [
      "\u001b[0;31m---------------------------------------------------------------------------\u001b[0m",
      "\u001b[0;31mKeyboardInterrupt\u001b[0m                         Traceback (most recent call last)",
      "\u001b[0;32m<ipython-input-62-a9615c7e620b>\u001b[0m in \u001b[0;36m<module>\u001b[0;34m\u001b[0m\n\u001b[1;32m     17\u001b[0m \u001b[0mscorer\u001b[0m \u001b[0;34m=\u001b[0m \u001b[0mmake_scorer\u001b[0m\u001b[0;34m(\u001b[0m\u001b[0mget_score\u001b[0m\u001b[0;34m,\u001b[0m \u001b[0mgreater_is_better\u001b[0m\u001b[0;34m=\u001b[0m\u001b[0;32mFalse\u001b[0m\u001b[0;34m)\u001b[0m\u001b[0;34m\u001b[0m\u001b[0;34m\u001b[0m\u001b[0m\n\u001b[1;32m     18\u001b[0m \u001b[0mclf\u001b[0m \u001b[0;34m=\u001b[0m \u001b[0mGridSearchCV\u001b[0m\u001b[0;34m(\u001b[0m\u001b[0mrf\u001b[0m\u001b[0;34m,\u001b[0m \u001b[0mparameters\u001b[0m\u001b[0;34m,\u001b[0m \u001b[0mscoring\u001b[0m\u001b[0;34m=\u001b[0m\u001b[0mscorer\u001b[0m\u001b[0;34m)\u001b[0m\u001b[0;34m\u001b[0m\u001b[0;34m\u001b[0m\u001b[0m\n\u001b[0;32m---> 19\u001b[0;31m \u001b[0mclf\u001b[0m\u001b[0;34m.\u001b[0m\u001b[0mfit\u001b[0m\u001b[0;34m(\u001b[0m\u001b[0mrf_set\u001b[0m\u001b[0;34m.\u001b[0m\u001b[0mdrop\u001b[0m\u001b[0;34m(\u001b[0m\u001b[0;34m'Sales'\u001b[0m\u001b[0;34m,\u001b[0m \u001b[0maxis\u001b[0m \u001b[0;34m=\u001b[0m \u001b[0;36m1\u001b[0m\u001b[0;34m)\u001b[0m\u001b[0;34m,\u001b[0m \u001b[0mrf_set\u001b[0m\u001b[0;34m[\u001b[0m\u001b[0;34m'Sales'\u001b[0m\u001b[0;34m]\u001b[0m\u001b[0;34m)\u001b[0m\u001b[0;34m\u001b[0m\u001b[0;34m\u001b[0m\u001b[0m\n\u001b[0m",
      "\u001b[0;32m/opt/anaconda3/envs/minicomp/lib/python3.8/site-packages/sklearn/utils/validation.py\u001b[0m in \u001b[0;36minner_f\u001b[0;34m(*args, **kwargs)\u001b[0m\n\u001b[1;32m     70\u001b[0m                           FutureWarning)\n\u001b[1;32m     71\u001b[0m         \u001b[0mkwargs\u001b[0m\u001b[0;34m.\u001b[0m\u001b[0mupdate\u001b[0m\u001b[0;34m(\u001b[0m\u001b[0;34m{\u001b[0m\u001b[0mk\u001b[0m\u001b[0;34m:\u001b[0m \u001b[0marg\u001b[0m \u001b[0;32mfor\u001b[0m \u001b[0mk\u001b[0m\u001b[0;34m,\u001b[0m \u001b[0marg\u001b[0m \u001b[0;32min\u001b[0m \u001b[0mzip\u001b[0m\u001b[0;34m(\u001b[0m\u001b[0msig\u001b[0m\u001b[0;34m.\u001b[0m\u001b[0mparameters\u001b[0m\u001b[0;34m,\u001b[0m \u001b[0margs\u001b[0m\u001b[0;34m)\u001b[0m\u001b[0;34m}\u001b[0m\u001b[0;34m)\u001b[0m\u001b[0;34m\u001b[0m\u001b[0;34m\u001b[0m\u001b[0m\n\u001b[0;32m---> 72\u001b[0;31m         \u001b[0;32mreturn\u001b[0m \u001b[0mf\u001b[0m\u001b[0;34m(\u001b[0m\u001b[0;34m**\u001b[0m\u001b[0mkwargs\u001b[0m\u001b[0;34m)\u001b[0m\u001b[0;34m\u001b[0m\u001b[0;34m\u001b[0m\u001b[0m\n\u001b[0m\u001b[1;32m     73\u001b[0m     \u001b[0;32mreturn\u001b[0m \u001b[0minner_f\u001b[0m\u001b[0;34m\u001b[0m\u001b[0;34m\u001b[0m\u001b[0m\n\u001b[1;32m     74\u001b[0m \u001b[0;34m\u001b[0m\u001b[0m\n",
      "\u001b[0;32m/opt/anaconda3/envs/minicomp/lib/python3.8/site-packages/sklearn/model_selection/_search.py\u001b[0m in \u001b[0;36mfit\u001b[0;34m(self, X, y, groups, **fit_params)\u001b[0m\n\u001b[1;32m    734\u001b[0m                 \u001b[0;32mreturn\u001b[0m \u001b[0mresults\u001b[0m\u001b[0;34m\u001b[0m\u001b[0;34m\u001b[0m\u001b[0m\n\u001b[1;32m    735\u001b[0m \u001b[0;34m\u001b[0m\u001b[0m\n\u001b[0;32m--> 736\u001b[0;31m             \u001b[0mself\u001b[0m\u001b[0;34m.\u001b[0m\u001b[0m_run_search\u001b[0m\u001b[0;34m(\u001b[0m\u001b[0mevaluate_candidates\u001b[0m\u001b[0;34m)\u001b[0m\u001b[0;34m\u001b[0m\u001b[0;34m\u001b[0m\u001b[0m\n\u001b[0m\u001b[1;32m    737\u001b[0m \u001b[0;34m\u001b[0m\u001b[0m\n\u001b[1;32m    738\u001b[0m         \u001b[0;31m# For multi-metric evaluation, store the best_index_, best_params_ and\u001b[0m\u001b[0;34m\u001b[0m\u001b[0;34m\u001b[0m\u001b[0;34m\u001b[0m\u001b[0m\n",
      "\u001b[0;32m/opt/anaconda3/envs/minicomp/lib/python3.8/site-packages/sklearn/model_selection/_search.py\u001b[0m in \u001b[0;36m_run_search\u001b[0;34m(self, evaluate_candidates)\u001b[0m\n\u001b[1;32m   1186\u001b[0m     \u001b[0;32mdef\u001b[0m \u001b[0m_run_search\u001b[0m\u001b[0;34m(\u001b[0m\u001b[0mself\u001b[0m\u001b[0;34m,\u001b[0m \u001b[0mevaluate_candidates\u001b[0m\u001b[0;34m)\u001b[0m\u001b[0;34m:\u001b[0m\u001b[0;34m\u001b[0m\u001b[0;34m\u001b[0m\u001b[0m\n\u001b[1;32m   1187\u001b[0m         \u001b[0;34m\"\"\"Search all candidates in param_grid\"\"\"\u001b[0m\u001b[0;34m\u001b[0m\u001b[0;34m\u001b[0m\u001b[0m\n\u001b[0;32m-> 1188\u001b[0;31m         \u001b[0mevaluate_candidates\u001b[0m\u001b[0;34m(\u001b[0m\u001b[0mParameterGrid\u001b[0m\u001b[0;34m(\u001b[0m\u001b[0mself\u001b[0m\u001b[0;34m.\u001b[0m\u001b[0mparam_grid\u001b[0m\u001b[0;34m)\u001b[0m\u001b[0;34m)\u001b[0m\u001b[0;34m\u001b[0m\u001b[0;34m\u001b[0m\u001b[0m\n\u001b[0m\u001b[1;32m   1189\u001b[0m \u001b[0;34m\u001b[0m\u001b[0m\n\u001b[1;32m   1190\u001b[0m \u001b[0;34m\u001b[0m\u001b[0m\n",
      "\u001b[0;32m/opt/anaconda3/envs/minicomp/lib/python3.8/site-packages/sklearn/model_selection/_search.py\u001b[0m in \u001b[0;36mevaluate_candidates\u001b[0;34m(candidate_params)\u001b[0m\n\u001b[1;32m    706\u001b[0m                               n_splits, n_candidates, n_candidates * n_splits))\n\u001b[1;32m    707\u001b[0m \u001b[0;34m\u001b[0m\u001b[0m\n\u001b[0;32m--> 708\u001b[0;31m                 out = parallel(delayed(_fit_and_score)(clone(base_estimator),\n\u001b[0m\u001b[1;32m    709\u001b[0m                                                        \u001b[0mX\u001b[0m\u001b[0;34m,\u001b[0m \u001b[0my\u001b[0m\u001b[0;34m,\u001b[0m\u001b[0;34m\u001b[0m\u001b[0;34m\u001b[0m\u001b[0m\n\u001b[1;32m    710\u001b[0m                                                        \u001b[0mtrain\u001b[0m\u001b[0;34m=\u001b[0m\u001b[0mtrain\u001b[0m\u001b[0;34m,\u001b[0m \u001b[0mtest\u001b[0m\u001b[0;34m=\u001b[0m\u001b[0mtest\u001b[0m\u001b[0;34m,\u001b[0m\u001b[0;34m\u001b[0m\u001b[0;34m\u001b[0m\u001b[0m\n",
      "\u001b[0;32m/opt/anaconda3/envs/minicomp/lib/python3.8/site-packages/joblib/parallel.py\u001b[0m in \u001b[0;36m__call__\u001b[0;34m(self, iterable)\u001b[0m\n\u001b[1;32m   1049\u001b[0m                 \u001b[0mself\u001b[0m\u001b[0;34m.\u001b[0m\u001b[0m_iterating\u001b[0m \u001b[0;34m=\u001b[0m \u001b[0mself\u001b[0m\u001b[0;34m.\u001b[0m\u001b[0m_original_iterator\u001b[0m \u001b[0;32mis\u001b[0m \u001b[0;32mnot\u001b[0m \u001b[0;32mNone\u001b[0m\u001b[0;34m\u001b[0m\u001b[0;34m\u001b[0m\u001b[0m\n\u001b[1;32m   1050\u001b[0m \u001b[0;34m\u001b[0m\u001b[0m\n\u001b[0;32m-> 1051\u001b[0;31m             \u001b[0;32mwhile\u001b[0m \u001b[0mself\u001b[0m\u001b[0;34m.\u001b[0m\u001b[0mdispatch_one_batch\u001b[0m\u001b[0;34m(\u001b[0m\u001b[0miterator\u001b[0m\u001b[0;34m)\u001b[0m\u001b[0;34m:\u001b[0m\u001b[0;34m\u001b[0m\u001b[0;34m\u001b[0m\u001b[0m\n\u001b[0m\u001b[1;32m   1052\u001b[0m                 \u001b[0;32mpass\u001b[0m\u001b[0;34m\u001b[0m\u001b[0;34m\u001b[0m\u001b[0m\n\u001b[1;32m   1053\u001b[0m \u001b[0;34m\u001b[0m\u001b[0m\n",
      "\u001b[0;32m/opt/anaconda3/envs/minicomp/lib/python3.8/site-packages/joblib/parallel.py\u001b[0m in \u001b[0;36mdispatch_one_batch\u001b[0;34m(self, iterator)\u001b[0m\n\u001b[1;32m    864\u001b[0m                 \u001b[0;32mreturn\u001b[0m \u001b[0;32mFalse\u001b[0m\u001b[0;34m\u001b[0m\u001b[0;34m\u001b[0m\u001b[0m\n\u001b[1;32m    865\u001b[0m             \u001b[0;32melse\u001b[0m\u001b[0;34m:\u001b[0m\u001b[0;34m\u001b[0m\u001b[0;34m\u001b[0m\u001b[0m\n\u001b[0;32m--> 866\u001b[0;31m                 \u001b[0mself\u001b[0m\u001b[0;34m.\u001b[0m\u001b[0m_dispatch\u001b[0m\u001b[0;34m(\u001b[0m\u001b[0mtasks\u001b[0m\u001b[0;34m)\u001b[0m\u001b[0;34m\u001b[0m\u001b[0;34m\u001b[0m\u001b[0m\n\u001b[0m\u001b[1;32m    867\u001b[0m                 \u001b[0;32mreturn\u001b[0m \u001b[0;32mTrue\u001b[0m\u001b[0;34m\u001b[0m\u001b[0;34m\u001b[0m\u001b[0m\n\u001b[1;32m    868\u001b[0m \u001b[0;34m\u001b[0m\u001b[0m\n",
      "\u001b[0;32m/opt/anaconda3/envs/minicomp/lib/python3.8/site-packages/joblib/parallel.py\u001b[0m in \u001b[0;36m_dispatch\u001b[0;34m(self, batch)\u001b[0m\n\u001b[1;32m    782\u001b[0m         \u001b[0;32mwith\u001b[0m \u001b[0mself\u001b[0m\u001b[0;34m.\u001b[0m\u001b[0m_lock\u001b[0m\u001b[0;34m:\u001b[0m\u001b[0;34m\u001b[0m\u001b[0;34m\u001b[0m\u001b[0m\n\u001b[1;32m    783\u001b[0m             \u001b[0mjob_idx\u001b[0m \u001b[0;34m=\u001b[0m \u001b[0mlen\u001b[0m\u001b[0;34m(\u001b[0m\u001b[0mself\u001b[0m\u001b[0;34m.\u001b[0m\u001b[0m_jobs\u001b[0m\u001b[0;34m)\u001b[0m\u001b[0;34m\u001b[0m\u001b[0;34m\u001b[0m\u001b[0m\n\u001b[0;32m--> 784\u001b[0;31m             \u001b[0mjob\u001b[0m \u001b[0;34m=\u001b[0m \u001b[0mself\u001b[0m\u001b[0;34m.\u001b[0m\u001b[0m_backend\u001b[0m\u001b[0;34m.\u001b[0m\u001b[0mapply_async\u001b[0m\u001b[0;34m(\u001b[0m\u001b[0mbatch\u001b[0m\u001b[0;34m,\u001b[0m \u001b[0mcallback\u001b[0m\u001b[0;34m=\u001b[0m\u001b[0mcb\u001b[0m\u001b[0;34m)\u001b[0m\u001b[0;34m\u001b[0m\u001b[0;34m\u001b[0m\u001b[0m\n\u001b[0m\u001b[1;32m    785\u001b[0m             \u001b[0;31m# A job can complete so quickly than its callback is\u001b[0m\u001b[0;34m\u001b[0m\u001b[0;34m\u001b[0m\u001b[0;34m\u001b[0m\u001b[0m\n\u001b[1;32m    786\u001b[0m             \u001b[0;31m# called before we get here, causing self._jobs to\u001b[0m\u001b[0;34m\u001b[0m\u001b[0;34m\u001b[0m\u001b[0;34m\u001b[0m\u001b[0m\n",
      "\u001b[0;32m/opt/anaconda3/envs/minicomp/lib/python3.8/site-packages/joblib/_parallel_backends.py\u001b[0m in \u001b[0;36mapply_async\u001b[0;34m(self, func, callback)\u001b[0m\n\u001b[1;32m    206\u001b[0m     \u001b[0;32mdef\u001b[0m \u001b[0mapply_async\u001b[0m\u001b[0;34m(\u001b[0m\u001b[0mself\u001b[0m\u001b[0;34m,\u001b[0m \u001b[0mfunc\u001b[0m\u001b[0;34m,\u001b[0m \u001b[0mcallback\u001b[0m\u001b[0;34m=\u001b[0m\u001b[0;32mNone\u001b[0m\u001b[0;34m)\u001b[0m\u001b[0;34m:\u001b[0m\u001b[0;34m\u001b[0m\u001b[0;34m\u001b[0m\u001b[0m\n\u001b[1;32m    207\u001b[0m         \u001b[0;34m\"\"\"Schedule a func to be run\"\"\"\u001b[0m\u001b[0;34m\u001b[0m\u001b[0;34m\u001b[0m\u001b[0m\n\u001b[0;32m--> 208\u001b[0;31m         \u001b[0mresult\u001b[0m \u001b[0;34m=\u001b[0m \u001b[0mImmediateResult\u001b[0m\u001b[0;34m(\u001b[0m\u001b[0mfunc\u001b[0m\u001b[0;34m)\u001b[0m\u001b[0;34m\u001b[0m\u001b[0;34m\u001b[0m\u001b[0m\n\u001b[0m\u001b[1;32m    209\u001b[0m         \u001b[0;32mif\u001b[0m \u001b[0mcallback\u001b[0m\u001b[0;34m:\u001b[0m\u001b[0;34m\u001b[0m\u001b[0;34m\u001b[0m\u001b[0m\n\u001b[1;32m    210\u001b[0m             \u001b[0mcallback\u001b[0m\u001b[0;34m(\u001b[0m\u001b[0mresult\u001b[0m\u001b[0;34m)\u001b[0m\u001b[0;34m\u001b[0m\u001b[0;34m\u001b[0m\u001b[0m\n",
      "\u001b[0;32m/opt/anaconda3/envs/minicomp/lib/python3.8/site-packages/joblib/_parallel_backends.py\u001b[0m in \u001b[0;36m__init__\u001b[0;34m(self, batch)\u001b[0m\n\u001b[1;32m    570\u001b[0m         \u001b[0;31m# Don't delay the application, to avoid keeping the input\u001b[0m\u001b[0;34m\u001b[0m\u001b[0;34m\u001b[0m\u001b[0;34m\u001b[0m\u001b[0m\n\u001b[1;32m    571\u001b[0m         \u001b[0;31m# arguments in memory\u001b[0m\u001b[0;34m\u001b[0m\u001b[0;34m\u001b[0m\u001b[0;34m\u001b[0m\u001b[0m\n\u001b[0;32m--> 572\u001b[0;31m         \u001b[0mself\u001b[0m\u001b[0;34m.\u001b[0m\u001b[0mresults\u001b[0m \u001b[0;34m=\u001b[0m \u001b[0mbatch\u001b[0m\u001b[0;34m(\u001b[0m\u001b[0;34m)\u001b[0m\u001b[0;34m\u001b[0m\u001b[0;34m\u001b[0m\u001b[0m\n\u001b[0m\u001b[1;32m    573\u001b[0m \u001b[0;34m\u001b[0m\u001b[0m\n\u001b[1;32m    574\u001b[0m     \u001b[0;32mdef\u001b[0m \u001b[0mget\u001b[0m\u001b[0;34m(\u001b[0m\u001b[0mself\u001b[0m\u001b[0;34m)\u001b[0m\u001b[0;34m:\u001b[0m\u001b[0;34m\u001b[0m\u001b[0;34m\u001b[0m\u001b[0m\n",
      "\u001b[0;32m/opt/anaconda3/envs/minicomp/lib/python3.8/site-packages/joblib/parallel.py\u001b[0m in \u001b[0;36m__call__\u001b[0;34m(self)\u001b[0m\n\u001b[1;32m    260\u001b[0m         \u001b[0;31m# change the default number of processes to -1\u001b[0m\u001b[0;34m\u001b[0m\u001b[0;34m\u001b[0m\u001b[0;34m\u001b[0m\u001b[0m\n\u001b[1;32m    261\u001b[0m         \u001b[0;32mwith\u001b[0m \u001b[0mparallel_backend\u001b[0m\u001b[0;34m(\u001b[0m\u001b[0mself\u001b[0m\u001b[0;34m.\u001b[0m\u001b[0m_backend\u001b[0m\u001b[0;34m,\u001b[0m \u001b[0mn_jobs\u001b[0m\u001b[0;34m=\u001b[0m\u001b[0mself\u001b[0m\u001b[0;34m.\u001b[0m\u001b[0m_n_jobs\u001b[0m\u001b[0;34m)\u001b[0m\u001b[0;34m:\u001b[0m\u001b[0;34m\u001b[0m\u001b[0;34m\u001b[0m\u001b[0m\n\u001b[0;32m--> 262\u001b[0;31m             return [func(*args, **kwargs)\n\u001b[0m\u001b[1;32m    263\u001b[0m                     for func, args, kwargs in self.items]\n\u001b[1;32m    264\u001b[0m \u001b[0;34m\u001b[0m\u001b[0m\n",
      "\u001b[0;32m/opt/anaconda3/envs/minicomp/lib/python3.8/site-packages/joblib/parallel.py\u001b[0m in \u001b[0;36m<listcomp>\u001b[0;34m(.0)\u001b[0m\n\u001b[1;32m    260\u001b[0m         \u001b[0;31m# change the default number of processes to -1\u001b[0m\u001b[0;34m\u001b[0m\u001b[0;34m\u001b[0m\u001b[0;34m\u001b[0m\u001b[0m\n\u001b[1;32m    261\u001b[0m         \u001b[0;32mwith\u001b[0m \u001b[0mparallel_backend\u001b[0m\u001b[0;34m(\u001b[0m\u001b[0mself\u001b[0m\u001b[0;34m.\u001b[0m\u001b[0m_backend\u001b[0m\u001b[0;34m,\u001b[0m \u001b[0mn_jobs\u001b[0m\u001b[0;34m=\u001b[0m\u001b[0mself\u001b[0m\u001b[0;34m.\u001b[0m\u001b[0m_n_jobs\u001b[0m\u001b[0;34m)\u001b[0m\u001b[0;34m:\u001b[0m\u001b[0;34m\u001b[0m\u001b[0;34m\u001b[0m\u001b[0m\n\u001b[0;32m--> 262\u001b[0;31m             return [func(*args, **kwargs)\n\u001b[0m\u001b[1;32m    263\u001b[0m                     for func, args, kwargs in self.items]\n\u001b[1;32m    264\u001b[0m \u001b[0;34m\u001b[0m\u001b[0m\n",
      "\u001b[0;32m/opt/anaconda3/envs/minicomp/lib/python3.8/site-packages/sklearn/model_selection/_validation.py\u001b[0m in \u001b[0;36m_fit_and_score\u001b[0;34m(estimator, X, y, scorer, train, test, verbose, parameters, fit_params, return_train_score, return_parameters, return_n_test_samples, return_times, return_estimator, error_score)\u001b[0m\n\u001b[1;32m    529\u001b[0m             \u001b[0mestimator\u001b[0m\u001b[0;34m.\u001b[0m\u001b[0mfit\u001b[0m\u001b[0;34m(\u001b[0m\u001b[0mX_train\u001b[0m\u001b[0;34m,\u001b[0m \u001b[0;34m**\u001b[0m\u001b[0mfit_params\u001b[0m\u001b[0;34m)\u001b[0m\u001b[0;34m\u001b[0m\u001b[0;34m\u001b[0m\u001b[0m\n\u001b[1;32m    530\u001b[0m         \u001b[0;32melse\u001b[0m\u001b[0;34m:\u001b[0m\u001b[0;34m\u001b[0m\u001b[0;34m\u001b[0m\u001b[0m\n\u001b[0;32m--> 531\u001b[0;31m             \u001b[0mestimator\u001b[0m\u001b[0;34m.\u001b[0m\u001b[0mfit\u001b[0m\u001b[0;34m(\u001b[0m\u001b[0mX_train\u001b[0m\u001b[0;34m,\u001b[0m \u001b[0my_train\u001b[0m\u001b[0;34m,\u001b[0m \u001b[0;34m**\u001b[0m\u001b[0mfit_params\u001b[0m\u001b[0;34m)\u001b[0m\u001b[0;34m\u001b[0m\u001b[0;34m\u001b[0m\u001b[0m\n\u001b[0m\u001b[1;32m    532\u001b[0m \u001b[0;34m\u001b[0m\u001b[0m\n\u001b[1;32m    533\u001b[0m     \u001b[0;32mexcept\u001b[0m \u001b[0mException\u001b[0m \u001b[0;32mas\u001b[0m \u001b[0me\u001b[0m\u001b[0;34m:\u001b[0m\u001b[0;34m\u001b[0m\u001b[0;34m\u001b[0m\u001b[0m\n",
      "\u001b[0;32m/opt/anaconda3/envs/minicomp/lib/python3.8/site-packages/sklearn/ensemble/_forest.py\u001b[0m in \u001b[0;36mfit\u001b[0;34m(self, X, y, sample_weight)\u001b[0m\n\u001b[1;32m    384\u001b[0m             \u001b[0;31m# parallel_backend contexts set at a higher level,\u001b[0m\u001b[0;34m\u001b[0m\u001b[0;34m\u001b[0m\u001b[0;34m\u001b[0m\u001b[0m\n\u001b[1;32m    385\u001b[0m             \u001b[0;31m# since correctness does not rely on using threads.\u001b[0m\u001b[0;34m\u001b[0m\u001b[0;34m\u001b[0m\u001b[0;34m\u001b[0m\u001b[0m\n\u001b[0;32m--> 386\u001b[0;31m             trees = Parallel(n_jobs=self.n_jobs, verbose=self.verbose,\n\u001b[0m\u001b[1;32m    387\u001b[0m                              \u001b[0;34m**\u001b[0m\u001b[0m_joblib_parallel_args\u001b[0m\u001b[0;34m(\u001b[0m\u001b[0mprefer\u001b[0m\u001b[0;34m=\u001b[0m\u001b[0;34m'threads'\u001b[0m\u001b[0;34m)\u001b[0m\u001b[0;34m)\u001b[0m\u001b[0;34m(\u001b[0m\u001b[0;34m\u001b[0m\u001b[0;34m\u001b[0m\u001b[0m\n\u001b[1;32m    388\u001b[0m                 delayed(_parallel_build_trees)(\n",
      "\u001b[0;32m/opt/anaconda3/envs/minicomp/lib/python3.8/site-packages/joblib/parallel.py\u001b[0m in \u001b[0;36m__call__\u001b[0;34m(self, iterable)\u001b[0m\n\u001b[1;32m   1049\u001b[0m                 \u001b[0mself\u001b[0m\u001b[0;34m.\u001b[0m\u001b[0m_iterating\u001b[0m \u001b[0;34m=\u001b[0m \u001b[0mself\u001b[0m\u001b[0;34m.\u001b[0m\u001b[0m_original_iterator\u001b[0m \u001b[0;32mis\u001b[0m \u001b[0;32mnot\u001b[0m \u001b[0;32mNone\u001b[0m\u001b[0;34m\u001b[0m\u001b[0;34m\u001b[0m\u001b[0m\n\u001b[1;32m   1050\u001b[0m \u001b[0;34m\u001b[0m\u001b[0m\n\u001b[0;32m-> 1051\u001b[0;31m             \u001b[0;32mwhile\u001b[0m \u001b[0mself\u001b[0m\u001b[0;34m.\u001b[0m\u001b[0mdispatch_one_batch\u001b[0m\u001b[0;34m(\u001b[0m\u001b[0miterator\u001b[0m\u001b[0;34m)\u001b[0m\u001b[0;34m:\u001b[0m\u001b[0;34m\u001b[0m\u001b[0;34m\u001b[0m\u001b[0m\n\u001b[0m\u001b[1;32m   1052\u001b[0m                 \u001b[0;32mpass\u001b[0m\u001b[0;34m\u001b[0m\u001b[0;34m\u001b[0m\u001b[0m\n\u001b[1;32m   1053\u001b[0m \u001b[0;34m\u001b[0m\u001b[0m\n",
      "\u001b[0;32m/opt/anaconda3/envs/minicomp/lib/python3.8/site-packages/joblib/parallel.py\u001b[0m in \u001b[0;36mdispatch_one_batch\u001b[0;34m(self, iterator)\u001b[0m\n\u001b[1;32m    864\u001b[0m                 \u001b[0;32mreturn\u001b[0m \u001b[0;32mFalse\u001b[0m\u001b[0;34m\u001b[0m\u001b[0;34m\u001b[0m\u001b[0m\n\u001b[1;32m    865\u001b[0m             \u001b[0;32melse\u001b[0m\u001b[0;34m:\u001b[0m\u001b[0;34m\u001b[0m\u001b[0;34m\u001b[0m\u001b[0m\n\u001b[0;32m--> 866\u001b[0;31m                 \u001b[0mself\u001b[0m\u001b[0;34m.\u001b[0m\u001b[0m_dispatch\u001b[0m\u001b[0;34m(\u001b[0m\u001b[0mtasks\u001b[0m\u001b[0;34m)\u001b[0m\u001b[0;34m\u001b[0m\u001b[0;34m\u001b[0m\u001b[0m\n\u001b[0m\u001b[1;32m    867\u001b[0m                 \u001b[0;32mreturn\u001b[0m \u001b[0;32mTrue\u001b[0m\u001b[0;34m\u001b[0m\u001b[0;34m\u001b[0m\u001b[0m\n\u001b[1;32m    868\u001b[0m \u001b[0;34m\u001b[0m\u001b[0m\n",
      "\u001b[0;32m/opt/anaconda3/envs/minicomp/lib/python3.8/site-packages/joblib/parallel.py\u001b[0m in \u001b[0;36m_dispatch\u001b[0;34m(self, batch)\u001b[0m\n\u001b[1;32m    782\u001b[0m         \u001b[0;32mwith\u001b[0m \u001b[0mself\u001b[0m\u001b[0;34m.\u001b[0m\u001b[0m_lock\u001b[0m\u001b[0;34m:\u001b[0m\u001b[0;34m\u001b[0m\u001b[0;34m\u001b[0m\u001b[0m\n\u001b[1;32m    783\u001b[0m             \u001b[0mjob_idx\u001b[0m \u001b[0;34m=\u001b[0m \u001b[0mlen\u001b[0m\u001b[0;34m(\u001b[0m\u001b[0mself\u001b[0m\u001b[0;34m.\u001b[0m\u001b[0m_jobs\u001b[0m\u001b[0;34m)\u001b[0m\u001b[0;34m\u001b[0m\u001b[0;34m\u001b[0m\u001b[0m\n\u001b[0;32m--> 784\u001b[0;31m             \u001b[0mjob\u001b[0m \u001b[0;34m=\u001b[0m \u001b[0mself\u001b[0m\u001b[0;34m.\u001b[0m\u001b[0m_backend\u001b[0m\u001b[0;34m.\u001b[0m\u001b[0mapply_async\u001b[0m\u001b[0;34m(\u001b[0m\u001b[0mbatch\u001b[0m\u001b[0;34m,\u001b[0m \u001b[0mcallback\u001b[0m\u001b[0;34m=\u001b[0m\u001b[0mcb\u001b[0m\u001b[0;34m)\u001b[0m\u001b[0;34m\u001b[0m\u001b[0;34m\u001b[0m\u001b[0m\n\u001b[0m\u001b[1;32m    785\u001b[0m             \u001b[0;31m# A job can complete so quickly than its callback is\u001b[0m\u001b[0;34m\u001b[0m\u001b[0;34m\u001b[0m\u001b[0;34m\u001b[0m\u001b[0m\n\u001b[1;32m    786\u001b[0m             \u001b[0;31m# called before we get here, causing self._jobs to\u001b[0m\u001b[0;34m\u001b[0m\u001b[0;34m\u001b[0m\u001b[0;34m\u001b[0m\u001b[0m\n",
      "\u001b[0;32m/opt/anaconda3/envs/minicomp/lib/python3.8/site-packages/joblib/_parallel_backends.py\u001b[0m in \u001b[0;36mapply_async\u001b[0;34m(self, func, callback)\u001b[0m\n\u001b[1;32m    206\u001b[0m     \u001b[0;32mdef\u001b[0m \u001b[0mapply_async\u001b[0m\u001b[0;34m(\u001b[0m\u001b[0mself\u001b[0m\u001b[0;34m,\u001b[0m \u001b[0mfunc\u001b[0m\u001b[0;34m,\u001b[0m \u001b[0mcallback\u001b[0m\u001b[0;34m=\u001b[0m\u001b[0;32mNone\u001b[0m\u001b[0;34m)\u001b[0m\u001b[0;34m:\u001b[0m\u001b[0;34m\u001b[0m\u001b[0;34m\u001b[0m\u001b[0m\n\u001b[1;32m    207\u001b[0m         \u001b[0;34m\"\"\"Schedule a func to be run\"\"\"\u001b[0m\u001b[0;34m\u001b[0m\u001b[0;34m\u001b[0m\u001b[0m\n\u001b[0;32m--> 208\u001b[0;31m         \u001b[0mresult\u001b[0m \u001b[0;34m=\u001b[0m \u001b[0mImmediateResult\u001b[0m\u001b[0;34m(\u001b[0m\u001b[0mfunc\u001b[0m\u001b[0;34m)\u001b[0m\u001b[0;34m\u001b[0m\u001b[0;34m\u001b[0m\u001b[0m\n\u001b[0m\u001b[1;32m    209\u001b[0m         \u001b[0;32mif\u001b[0m \u001b[0mcallback\u001b[0m\u001b[0;34m:\u001b[0m\u001b[0;34m\u001b[0m\u001b[0;34m\u001b[0m\u001b[0m\n\u001b[1;32m    210\u001b[0m             \u001b[0mcallback\u001b[0m\u001b[0;34m(\u001b[0m\u001b[0mresult\u001b[0m\u001b[0;34m)\u001b[0m\u001b[0;34m\u001b[0m\u001b[0;34m\u001b[0m\u001b[0m\n",
      "\u001b[0;32m/opt/anaconda3/envs/minicomp/lib/python3.8/site-packages/joblib/_parallel_backends.py\u001b[0m in \u001b[0;36m__init__\u001b[0;34m(self, batch)\u001b[0m\n\u001b[1;32m    570\u001b[0m         \u001b[0;31m# Don't delay the application, to avoid keeping the input\u001b[0m\u001b[0;34m\u001b[0m\u001b[0;34m\u001b[0m\u001b[0;34m\u001b[0m\u001b[0m\n\u001b[1;32m    571\u001b[0m         \u001b[0;31m# arguments in memory\u001b[0m\u001b[0;34m\u001b[0m\u001b[0;34m\u001b[0m\u001b[0;34m\u001b[0m\u001b[0m\n\u001b[0;32m--> 572\u001b[0;31m         \u001b[0mself\u001b[0m\u001b[0;34m.\u001b[0m\u001b[0mresults\u001b[0m \u001b[0;34m=\u001b[0m \u001b[0mbatch\u001b[0m\u001b[0;34m(\u001b[0m\u001b[0;34m)\u001b[0m\u001b[0;34m\u001b[0m\u001b[0;34m\u001b[0m\u001b[0m\n\u001b[0m\u001b[1;32m    573\u001b[0m \u001b[0;34m\u001b[0m\u001b[0m\n\u001b[1;32m    574\u001b[0m     \u001b[0;32mdef\u001b[0m \u001b[0mget\u001b[0m\u001b[0;34m(\u001b[0m\u001b[0mself\u001b[0m\u001b[0;34m)\u001b[0m\u001b[0;34m:\u001b[0m\u001b[0;34m\u001b[0m\u001b[0;34m\u001b[0m\u001b[0m\n",
      "\u001b[0;32m/opt/anaconda3/envs/minicomp/lib/python3.8/site-packages/joblib/parallel.py\u001b[0m in \u001b[0;36m__call__\u001b[0;34m(self)\u001b[0m\n\u001b[1;32m    260\u001b[0m         \u001b[0;31m# change the default number of processes to -1\u001b[0m\u001b[0;34m\u001b[0m\u001b[0;34m\u001b[0m\u001b[0;34m\u001b[0m\u001b[0m\n\u001b[1;32m    261\u001b[0m         \u001b[0;32mwith\u001b[0m \u001b[0mparallel_backend\u001b[0m\u001b[0;34m(\u001b[0m\u001b[0mself\u001b[0m\u001b[0;34m.\u001b[0m\u001b[0m_backend\u001b[0m\u001b[0;34m,\u001b[0m \u001b[0mn_jobs\u001b[0m\u001b[0;34m=\u001b[0m\u001b[0mself\u001b[0m\u001b[0;34m.\u001b[0m\u001b[0m_n_jobs\u001b[0m\u001b[0;34m)\u001b[0m\u001b[0;34m:\u001b[0m\u001b[0;34m\u001b[0m\u001b[0;34m\u001b[0m\u001b[0m\n\u001b[0;32m--> 262\u001b[0;31m             return [func(*args, **kwargs)\n\u001b[0m\u001b[1;32m    263\u001b[0m                     for func, args, kwargs in self.items]\n\u001b[1;32m    264\u001b[0m \u001b[0;34m\u001b[0m\u001b[0m\n",
      "\u001b[0;32m/opt/anaconda3/envs/minicomp/lib/python3.8/site-packages/joblib/parallel.py\u001b[0m in \u001b[0;36m<listcomp>\u001b[0;34m(.0)\u001b[0m\n\u001b[1;32m    260\u001b[0m         \u001b[0;31m# change the default number of processes to -1\u001b[0m\u001b[0;34m\u001b[0m\u001b[0;34m\u001b[0m\u001b[0;34m\u001b[0m\u001b[0m\n\u001b[1;32m    261\u001b[0m         \u001b[0;32mwith\u001b[0m \u001b[0mparallel_backend\u001b[0m\u001b[0;34m(\u001b[0m\u001b[0mself\u001b[0m\u001b[0;34m.\u001b[0m\u001b[0m_backend\u001b[0m\u001b[0;34m,\u001b[0m \u001b[0mn_jobs\u001b[0m\u001b[0;34m=\u001b[0m\u001b[0mself\u001b[0m\u001b[0;34m.\u001b[0m\u001b[0m_n_jobs\u001b[0m\u001b[0;34m)\u001b[0m\u001b[0;34m:\u001b[0m\u001b[0;34m\u001b[0m\u001b[0;34m\u001b[0m\u001b[0m\n\u001b[0;32m--> 262\u001b[0;31m             return [func(*args, **kwargs)\n\u001b[0m\u001b[1;32m    263\u001b[0m                     for func, args, kwargs in self.items]\n\u001b[1;32m    264\u001b[0m \u001b[0;34m\u001b[0m\u001b[0m\n",
      "\u001b[0;32m/opt/anaconda3/envs/minicomp/lib/python3.8/site-packages/sklearn/ensemble/_forest.py\u001b[0m in \u001b[0;36m_parallel_build_trees\u001b[0;34m(tree, forest, X, y, sample_weight, tree_idx, n_trees, verbose, class_weight, n_samples_bootstrap)\u001b[0m\n\u001b[1;32m    166\u001b[0m                                                         indices=indices)\n\u001b[1;32m    167\u001b[0m \u001b[0;34m\u001b[0m\u001b[0m\n\u001b[0;32m--> 168\u001b[0;31m         \u001b[0mtree\u001b[0m\u001b[0;34m.\u001b[0m\u001b[0mfit\u001b[0m\u001b[0;34m(\u001b[0m\u001b[0mX\u001b[0m\u001b[0;34m,\u001b[0m \u001b[0my\u001b[0m\u001b[0;34m,\u001b[0m \u001b[0msample_weight\u001b[0m\u001b[0;34m=\u001b[0m\u001b[0mcurr_sample_weight\u001b[0m\u001b[0;34m,\u001b[0m \u001b[0mcheck_input\u001b[0m\u001b[0;34m=\u001b[0m\u001b[0;32mFalse\u001b[0m\u001b[0;34m)\u001b[0m\u001b[0;34m\u001b[0m\u001b[0;34m\u001b[0m\u001b[0m\n\u001b[0m\u001b[1;32m    169\u001b[0m     \u001b[0;32melse\u001b[0m\u001b[0;34m:\u001b[0m\u001b[0;34m\u001b[0m\u001b[0;34m\u001b[0m\u001b[0m\n\u001b[1;32m    170\u001b[0m         \u001b[0mtree\u001b[0m\u001b[0;34m.\u001b[0m\u001b[0mfit\u001b[0m\u001b[0;34m(\u001b[0m\u001b[0mX\u001b[0m\u001b[0;34m,\u001b[0m \u001b[0my\u001b[0m\u001b[0;34m,\u001b[0m \u001b[0msample_weight\u001b[0m\u001b[0;34m=\u001b[0m\u001b[0msample_weight\u001b[0m\u001b[0;34m,\u001b[0m \u001b[0mcheck_input\u001b[0m\u001b[0;34m=\u001b[0m\u001b[0;32mFalse\u001b[0m\u001b[0;34m)\u001b[0m\u001b[0;34m\u001b[0m\u001b[0;34m\u001b[0m\u001b[0m\n",
      "\u001b[0;32m/opt/anaconda3/envs/minicomp/lib/python3.8/site-packages/sklearn/tree/_classes.py\u001b[0m in \u001b[0;36mfit\u001b[0;34m(self, X, y, sample_weight, check_input, X_idx_sorted)\u001b[0m\n\u001b[1;32m   1240\u001b[0m         \"\"\"\n\u001b[1;32m   1241\u001b[0m \u001b[0;34m\u001b[0m\u001b[0m\n\u001b[0;32m-> 1242\u001b[0;31m         super().fit(\n\u001b[0m\u001b[1;32m   1243\u001b[0m             \u001b[0mX\u001b[0m\u001b[0;34m,\u001b[0m \u001b[0my\u001b[0m\u001b[0;34m,\u001b[0m\u001b[0;34m\u001b[0m\u001b[0;34m\u001b[0m\u001b[0m\n\u001b[1;32m   1244\u001b[0m             \u001b[0msample_weight\u001b[0m\u001b[0;34m=\u001b[0m\u001b[0msample_weight\u001b[0m\u001b[0;34m,\u001b[0m\u001b[0;34m\u001b[0m\u001b[0;34m\u001b[0m\u001b[0m\n",
      "\u001b[0;32m/opt/anaconda3/envs/minicomp/lib/python3.8/site-packages/sklearn/tree/_classes.py\u001b[0m in \u001b[0;36mfit\u001b[0;34m(self, X, y, sample_weight, check_input, X_idx_sorted)\u001b[0m\n\u001b[1;32m    373\u001b[0m                                            min_impurity_split)\n\u001b[1;32m    374\u001b[0m \u001b[0;34m\u001b[0m\u001b[0m\n\u001b[0;32m--> 375\u001b[0;31m         \u001b[0mbuilder\u001b[0m\u001b[0;34m.\u001b[0m\u001b[0mbuild\u001b[0m\u001b[0;34m(\u001b[0m\u001b[0mself\u001b[0m\u001b[0;34m.\u001b[0m\u001b[0mtree_\u001b[0m\u001b[0;34m,\u001b[0m \u001b[0mX\u001b[0m\u001b[0;34m,\u001b[0m \u001b[0my\u001b[0m\u001b[0;34m,\u001b[0m \u001b[0msample_weight\u001b[0m\u001b[0;34m,\u001b[0m \u001b[0mX_idx_sorted\u001b[0m\u001b[0;34m)\u001b[0m\u001b[0;34m\u001b[0m\u001b[0;34m\u001b[0m\u001b[0m\n\u001b[0m\u001b[1;32m    376\u001b[0m \u001b[0;34m\u001b[0m\u001b[0m\n\u001b[1;32m    377\u001b[0m         \u001b[0;32mif\u001b[0m \u001b[0mself\u001b[0m\u001b[0;34m.\u001b[0m\u001b[0mn_outputs_\u001b[0m \u001b[0;34m==\u001b[0m \u001b[0;36m1\u001b[0m \u001b[0;32mand\u001b[0m \u001b[0mis_classifier\u001b[0m\u001b[0;34m(\u001b[0m\u001b[0mself\u001b[0m\u001b[0;34m)\u001b[0m\u001b[0;34m:\u001b[0m\u001b[0;34m\u001b[0m\u001b[0;34m\u001b[0m\u001b[0m\n",
      "\u001b[0;31mKeyboardInterrupt\u001b[0m: "
     ]
    }
   ],
   "source": [
    "# Run this is you have time. Right now we don't. \n",
    "from sklearn.model_selection import GridSearchCV\n",
    "from sklearn.metrics import make_scorer\n",
    "\n",
    "rf_set = sample.drop(['Date', 'Customers'], axis = 1)\n",
    "rf_set['Store'] = mean_encoder(rf_set, 'Store')\n",
    "rf_set['StoreType'] = mean_encoder(rf_set, 'StoreType')\n",
    "rf_set['Assortment'] = mean_encoder(rf_set, 'Assortment')\n",
    "rf_set['StateHoliday'] = mean_encoder(rf_set, 'StateHoliday')\n",
    "rf_set.loc[rf_set['Month'] != 12, 'Month'] = 0\n",
    "rf_set.loc[rf_set['Month'] == 12, 'Month'] = 1\n",
    "\n",
    "rf = RandomForestRegressor(random_state=42)\n",
    "parameters = {'max_depth':range(1,30, 3), \n",
    "              'n_estimators'=range(100,1000,100), \n",
    "              'min_samples_split'=range(1,15),\n",
    "             'max_samples'=range(0.1,1, 0.1),\n",
    "             'max_features'=range(2,12)}\n",
    "\n",
    "scorer = make_scorer(get_score, greater_is_better=False)\n",
    "clf = GridSearchCV(rf, parameters, scoring=scorer)\n",
    "clf.fit(rf_set.drop('Sales', axis = 1), rf_set['Sales'])"
   ]
  },
  {
   "cell_type": "code",
   "execution_count": 65,
   "metadata": {},
   "outputs": [
    {
     "name": "stdout",
     "output_type": "stream",
     "text": [
      "Max depth: 1, Score: 35.053729551037286\n",
      "Max depth: 4, Score: 22.023664800066967\n",
      "Max depth: 7, Score: 18.982545309394997\n",
      "Max depth: 10, Score: 17.321307569827795\n",
      "Max depth: 13, Score: 16.136174441031258\n",
      "Max depth: 16, Score: 15.827152639388968\n",
      "Max depth: 19, Score: 16.12117862371878\n",
      "Max depth: 22, Score: 16.337991385287427\n",
      "Max depth: 25, Score: 16.395461235008042\n",
      "Max depth: 28, Score: 16.406881348013336\n"
     ]
    }
   ],
   "source": [
    "# Let's instead do a less fancy, manual approach, one hyperparameter at a time\n",
    "\n",
    "rf_set = sample.drop(['Date', 'Customers'], axis = 1)\n",
    "rf_set['Store'] = mean_encoder(rf_set, 'Store')\n",
    "rf_set['StoreType'] = mean_encoder(rf_set, 'StoreType')\n",
    "rf_set['Assortment'] = mean_encoder(rf_set, 'Assortment')\n",
    "rf_set['StateHoliday'] = mean_encoder(rf_set, 'StateHoliday')\n",
    "rf_set.loc[rf_set['Month'] != 12, 'Month'] = 0\n",
    "rf_set.loc[rf_set['Month'] == 12, 'Month'] = 1\n",
    "\n",
    "X = rf_set.drop('Sales', axis = 1)\n",
    "y = rf_set['Sales']\n",
    "X_train,X_test,y_train,y_test = train_test_split(X,y,test_size=0.2,random_state=42)\n",
    "mask = y_train > 1200\n",
    "X_train = X_train[mask]\n",
    "y_train = y_train[mask]\n",
    "\n",
    "for max_depth in range(1,30,3):\n",
    "    rf = RandomForestRegressor(random_state=42, \n",
    "                               max_depth=max_depth)\n",
    "    rf.fit(X_train, y_train)\n",
    "    preds = rf.predict(X_test)\n",
    "    actuals = np.array(y_test)\n",
    "    score = get_score(actuals, preds)\n",
    "    print(f'Max depth: {max_depth}, Score: {score}')"
   ]
  },
  {
   "cell_type": "code",
   "execution_count": 82,
   "metadata": {},
   "outputs": [
    {
     "name": "stdout",
     "output_type": "stream",
     "text": [
      "n_estimators: 100, Score: 15.827152639388968\n",
      "n_estimators: 200, Score: 15.822192269019823\n",
      "n_estimators: 300, Score: 15.816427777231594\n",
      "n_estimators: 400, Score: 15.815198291883357\n",
      "n_estimators: 500, Score: 15.813772377754647\n",
      "n_estimators: 600, Score: 15.814249431073502\n",
      "n_estimators: 700, Score: 15.811588931838969\n",
      "n_estimators: 800, Score: 15.810451386348724\n",
      "n_estimators: 900, Score: 15.809870122305124\n",
      "n_estimators: 1000, Score: 15.809141806787293\n",
      "n_estimators: 1100, Score: 15.808657327451666\n",
      "n_estimators: 1200, Score: 15.809362133066436\n",
      "n_estimators: 1300, Score: 15.808930425451443\n",
      "n_estimators: 1400, Score: 15.809039980183515\n",
      "n_estimators: 1500, Score: 15.809099907414055\n",
      "n_estimators: 1600, Score: 15.808404889268227\n",
      "n_estimators: 1700, Score: 15.80844967321532\n",
      "n_estimators: 1800, Score: 15.808292847740855\n",
      "n_estimators: 1900, Score: 15.808049996408263\n"
     ]
    }
   ],
   "source": [
    "rf_set = sample.drop(['Date', 'Customers'], axis = 1)\n",
    "rf_set['Store'] = mean_encoder(rf_set, 'Store')\n",
    "rf_set['StoreType'] = mean_encoder(rf_set, 'StoreType')\n",
    "rf_set['Assortment'] = mean_encoder(rf_set, 'Assortment')\n",
    "rf_set['StateHoliday'] = mean_encoder(rf_set, 'StateHoliday')\n",
    "rf_set.loc[rf_set['Month'] != 12, 'Month'] = 0\n",
    "rf_set.loc[rf_set['Month'] == 12, 'Month'] = 1\n",
    "\n",
    "X = rf_set.drop('Sales', axis = 1)\n",
    "y = rf_set['Sales']\n",
    "X_train,X_test,y_train,y_test = train_test_split(X,y,test_size=0.2,random_state=42)\n",
    "mask = y_train > 1200\n",
    "X_train = X_train[mask]\n",
    "y_train = y_train[mask]\n",
    "\n",
    "for n_estimators in range(100,2000,100):\n",
    "    rf = RandomForestRegressor(random_state=42, \n",
    "                               max_depth=16, \n",
    "                               n_estimators=n_estimators)\n",
    "    rf.fit(X_train, y_train)\n",
    "    preds = rf.predict(X_test)\n",
    "    actuals = np.array(y_test)\n",
    "    score = get_score(actuals, preds)\n",
    "    print(f'n_estimators: {n_estimators}, Score: {score}')"
   ]
  },
  {
   "cell_type": "code",
   "execution_count": 83,
   "metadata": {},
   "outputs": [
    {
     "name": "stdout",
     "output_type": "stream",
     "text": [
      "min_samples_split: 8, Score: 15.669512057323344\n",
      "min_samples_split: 9, Score: 15.65232971176269\n",
      "min_samples_split: 10, Score: 15.63778788074124\n",
      "min_samples_split: 11, Score: 15.628177780772713\n",
      "min_samples_split: 12, Score: 15.621664902020429\n",
      "min_samples_split: 13, Score: 15.617502794614706\n",
      "min_samples_split: 14, Score: 15.616240703505968\n",
      "min_samples_split: 15, Score: 15.616175154907225\n",
      "min_samples_split: 16, Score: 15.618172003432019\n",
      "min_samples_split: 17, Score: 15.621691343202947\n",
      "min_samples_split: 18, Score: 15.627182822284446\n",
      "min_samples_split: 19, Score: 15.632597924980438\n",
      "min_samples_split: 20, Score: 15.640142700454058\n",
      "min_samples_split: 21, Score: 15.648523840403463\n"
     ]
    }
   ],
   "source": [
    "rf_set = sample.drop(['Date', 'Customers'], axis = 1)\n",
    "rf_set['Store'] = mean_encoder(rf_set, 'Store')\n",
    "rf_set['StoreType'] = mean_encoder(rf_set, 'StoreType')\n",
    "rf_set['Assortment'] = mean_encoder(rf_set, 'Assortment')\n",
    "rf_set['StateHoliday'] = mean_encoder(rf_set, 'StateHoliday')\n",
    "rf_set.loc[rf_set['Month'] != 12, 'Month'] = 0\n",
    "rf_set.loc[rf_set['Month'] == 12, 'Month'] = 1\n",
    "\n",
    "X = rf_set.drop('Sales', axis = 1)\n",
    "y = rf_set['Sales']\n",
    "X_train,X_test,y_train,y_test = train_test_split(X,y,test_size=0.2,random_state=42)\n",
    "mask = y_train > 1200\n",
    "X_train = X_train[mask]\n",
    "y_train = y_train[mask]\n",
    "\n",
    "for min_samples_split in range(8,22):\n",
    "    rf = RandomForestRegressor(random_state=42, \n",
    "                               max_depth=16, \n",
    "                               n_estimators=1900, \n",
    "                               min_samples_split=min_samples_split)\n",
    "    rf.fit(X_train, y_train)\n",
    "    preds = rf.predict(X_test)\n",
    "    actuals = np.array(y_test)\n",
    "    score = get_score(actuals, preds)\n",
    "    print(f'min_samples_split: {min_samples_split}, Score: {score}')"
   ]
  },
  {
   "cell_type": "code",
   "execution_count": 84,
   "metadata": {},
   "outputs": [
    {
     "name": "stdout",
     "output_type": "stream",
     "text": [
      "max_samples: 0.1, Score: 16.809401675585978\n",
      "max_samples: 0.2, Score: 16.148742678042698\n",
      "max_samples: 0.3, Score: 15.87135316698853\n",
      "max_samples: 0.4, Score: 15.740502927434033\n",
      "max_samples: 0.5, Score: 15.67351143734294\n",
      "max_samples: 0.6, Score: 15.637919646247097\n",
      "max_samples: 0.7, Score: 15.620574304135154\n",
      "max_samples: 0.8, Score: 15.611637859532856\n",
      "max_samples: 0.9, Score: 15.614364738608534\n"
     ]
    }
   ],
   "source": [
    "rf_set = sample.drop(['Date', 'Customers'], axis = 1)\n",
    "rf_set['Store'] = mean_encoder(rf_set, 'Store')\n",
    "rf_set['StoreType'] = mean_encoder(rf_set, 'StoreType')\n",
    "rf_set['Assortment'] = mean_encoder(rf_set, 'Assortment')\n",
    "rf_set['StateHoliday'] = mean_encoder(rf_set, 'StateHoliday')\n",
    "rf_set.loc[rf_set['Month'] != 12, 'Month'] = 0\n",
    "rf_set.loc[rf_set['Month'] == 12, 'Month'] = 1\n",
    "\n",
    "X = rf_set.drop('Sales', axis = 1)\n",
    "y = rf_set['Sales']\n",
    "X_train,X_test,y_train,y_test = train_test_split(X,y,test_size=0.2,random_state=42)\n",
    "mask = y_train > 1200\n",
    "X_train = X_train[mask]\n",
    "y_train = y_train[mask]\n",
    "\n",
    "for max_samples in np.array(range(1,10))/10:\n",
    "    rf = RandomForestRegressor(random_state=42, \n",
    "                               max_depth=16, \n",
    "                               n_estimators=1900, \n",
    "                               min_samples_split=15,\n",
    "                               max_samples=max_samples)\n",
    "    rf.fit(X_train, y_train)\n",
    "    preds = rf.predict(X_test)\n",
    "    actuals = np.array(y_test)\n",
    "    score = get_score(actuals, preds)\n",
    "    print(f'max_samples: {max_samples}, Score: {score}')"
   ]
  },
  {
   "cell_type": "code",
   "execution_count": 85,
   "metadata": {},
   "outputs": [
    {
     "name": "stdout",
     "output_type": "stream",
     "text": [
      "max_features: 2, Score: 16.202543796879386\n",
      "max_features: 3, Score: 15.942325802672661\n",
      "max_features: 4, Score: 15.805847511875395\n",
      "max_features: 5, Score: 15.711712017603404\n",
      "max_features: 6, Score: 15.658001039100679\n",
      "max_features: 7, Score: 15.628403376468514\n",
      "max_features: 8, Score: 15.621114876281935\n",
      "max_features: 9, Score: 15.617499483460778\n",
      "max_features: 10, Score: 15.620574304135154\n"
     ]
    }
   ],
   "source": [
    "rf_set = sample.drop(['Date', 'Customers'], axis = 1)\n",
    "rf_set['Store'] = mean_encoder(rf_set, 'Store')\n",
    "rf_set['StoreType'] = mean_encoder(rf_set, 'StoreType')\n",
    "rf_set['Assortment'] = mean_encoder(rf_set, 'Assortment')\n",
    "rf_set['StateHoliday'] = mean_encoder(rf_set, 'StateHoliday')\n",
    "rf_set.loc[rf_set['Month'] != 12, 'Month'] = 0\n",
    "rf_set.loc[rf_set['Month'] == 12, 'Month'] = 1\n",
    "\n",
    "X = rf_set.drop('Sales', axis = 1)\n",
    "y = rf_set['Sales']\n",
    "X_train,X_test,y_train,y_test = train_test_split(X,y,test_size=0.2,random_state=42)\n",
    "mask = y_train > 1200\n",
    "X_train = X_train[mask]\n",
    "y_train = y_train[mask]\n",
    "\n",
    "for max_features in range(2,11):\n",
    "    rf = RandomForestRegressor(random_state=42, \n",
    "                               max_depth=16, \n",
    "                               n_estimators=1900, \n",
    "                               min_samples_split=15,\n",
    "                               max_samples=0.7,\n",
    "                               max_features=max_features)\n",
    "    rf.fit(X_train, y_train)\n",
    "    preds = rf.predict(X_test)\n",
    "    actuals = np.array(y_test)\n",
    "    score = get_score(actuals, preds)\n",
    "    print(f'max_features: {max_features}, Score: {score}')"
   ]
  },
  {
   "cell_type": "code",
   "execution_count": 86,
   "metadata": {},
   "outputs": [
    {
     "name": "stdout",
     "output_type": "stream",
     "text": [
      "max_depth: 11, Score: 16.886527646131672\n",
      "max_depth: 12, Score: 16.49854707110127\n",
      "max_depth: 13, Score: 16.160911068155055\n",
      "max_depth: 14, Score: 15.900003764382411\n",
      "max_depth: 15, Score: 15.724334946978594\n",
      "max_depth: 16, Score: 15.621114876281935\n",
      "max_depth: 17, Score: 15.563574029893312\n",
      "max_depth: 18, Score: 15.53825918238012\n",
      "max_depth: 19, Score: 15.531173920081578\n",
      "max_depth: 20, Score: 15.527580448668061\n",
      "max_depth: 21, Score: 15.528390463349304\n",
      "max_depth: 22, Score: 15.528866551919037\n",
      "max_depth: 23, Score: 15.529231115067386\n"
     ]
    }
   ],
   "source": [
    "rf_set = sample.drop(['Date', 'Customers'], axis = 1)\n",
    "rf_set['Store'] = mean_encoder(rf_set, 'Store')\n",
    "rf_set['StoreType'] = mean_encoder(rf_set, 'StoreType')\n",
    "rf_set['Assortment'] = mean_encoder(rf_set, 'Assortment')\n",
    "rf_set['StateHoliday'] = mean_encoder(rf_set, 'StateHoliday')\n",
    "rf_set.loc[rf_set['Month'] != 12, 'Month'] = 0\n",
    "rf_set.loc[rf_set['Month'] == 12, 'Month'] = 1\n",
    "\n",
    "X = rf_set.drop('Sales', axis = 1)\n",
    "y = rf_set['Sales']\n",
    "X_train,X_test,y_train,y_test = train_test_split(X,y,test_size=0.2,random_state=42)\n",
    "mask = y_train > 1200\n",
    "X_train = X_train[mask]\n",
    "y_train = y_train[mask]\n",
    "\n",
    "for max_depth in range(11,24):\n",
    "    rf = RandomForestRegressor(random_state=42, \n",
    "                               max_depth=max_depth, \n",
    "                               n_estimators=1900, \n",
    "                               min_samples_split=15,\n",
    "                               max_samples=0.7,\n",
    "                               max_features=8)\n",
    "    rf.fit(X_train, y_train)\n",
    "    preds = rf.predict(X_test)\n",
    "    actuals = np.array(y_test)\n",
    "    score = get_score(actuals, preds)\n",
    "    print(f'max_depth: {max_depth}, Score: {score}')"
   ]
  },
  {
   "cell_type": "code",
   "execution_count": 87,
   "metadata": {},
   "outputs": [
    {
     "name": "stdout",
     "output_type": "stream",
     "text": [
      "n_estimators: 1500, Score: 15.623367142610574\n",
      "n_estimators: 1600, Score: 15.621170094923539\n",
      "n_estimators: 1700, Score: 15.620831295670346\n",
      "n_estimators: 1800, Score: 15.620588943922398\n",
      "n_estimators: 1900, Score: 15.621114876281935\n",
      "n_estimators: 2000, Score: 15.6208770017953\n",
      "n_estimators: 2100, Score: 15.621028412951665\n",
      "n_estimators: 2200, Score: 15.62070280429101\n",
      "n_estimators: 2300, Score: 15.619982194911865\n",
      "n_estimators: 2400, Score: 15.619953181880991\n",
      "n_estimators: 2500, Score: 15.618920886515056\n",
      "n_estimators: 2600, Score: 15.618595986878152\n",
      "n_estimators: 2700, Score: 15.61944582954539\n",
      "n_estimators: 2800, Score: 15.619341015917547\n",
      "n_estimators: 2900, Score: 15.619312725028061\n",
      "n_estimators: 3000, Score: 15.618485230833212\n",
      "n_estimators: 3100, Score: 15.618521988444344\n",
      "n_estimators: 3200, Score: 15.61861703928767\n",
      "n_estimators: 3300, Score: 15.618591882080588\n",
      "n_estimators: 3400, Score: 15.618548142683114\n"
     ]
    }
   ],
   "source": [
    "rf_set = sample.drop(['Date', 'Customers'], axis = 1)\n",
    "rf_set['Store'] = mean_encoder(rf_set, 'Store')\n",
    "rf_set['StoreType'] = mean_encoder(rf_set, 'StoreType')\n",
    "rf_set['Assortment'] = mean_encoder(rf_set, 'Assortment')\n",
    "rf_set['StateHoliday'] = mean_encoder(rf_set, 'StateHoliday')\n",
    "rf_set.loc[rf_set['Month'] != 12, 'Month'] = 0\n",
    "rf_set.loc[rf_set['Month'] == 12, 'Month'] = 1\n",
    "\n",
    "X = rf_set.drop('Sales', axis = 1)\n",
    "y = rf_set['Sales']\n",
    "X_train,X_test,y_train,y_test = train_test_split(X,y,test_size=0.2,random_state=42)\n",
    "mask = y_train > 1200\n",
    "X_train = X_train[mask]\n",
    "y_train = y_train[mask]\n",
    "\n",
    "for n_estimators in range(1500,3500,100):\n",
    "    rf = RandomForestRegressor(random_state=42, \n",
    "                               max_depth=16, \n",
    "                               n_estimators=n_estimators, \n",
    "                               min_samples_split=15,\n",
    "                               max_samples=0.7,\n",
    "                               max_features=8)\n",
    "    rf.fit(X_train, y_train)\n",
    "    preds = rf.predict(X_test)\n",
    "    actuals = np.array(y_test)\n",
    "    score = get_score(actuals, preds)\n",
    "    print(f'n_estimators: {n_estimators}, Score: {score}')"
   ]
  },
  {
   "cell_type": "code",
   "execution_count": 90,
   "metadata": {},
   "outputs": [
    {
     "name": "stdout",
     "output_type": "stream",
     "text": [
      "Score: 15.527010984251191\n"
     ]
    }
   ],
   "source": [
    "# Combining wisdom from the previous experiments\n",
    "rf_set = sample.drop(['Date', 'Customers'], axis = 1)\n",
    "rf_set['Store'] = mean_encoder(rf_set, 'Store')\n",
    "rf_set['StoreType'] = mean_encoder(rf_set, 'StoreType')\n",
    "rf_set['Assortment'] = mean_encoder(rf_set, 'Assortment')\n",
    "rf_set['StateHoliday'] = mean_encoder(rf_set, 'StateHoliday')\n",
    "rf_set.loc[rf_set['Month'] != 12, 'Month'] = 0\n",
    "rf_set.loc[rf_set['Month'] == 12, 'Month'] = 1\n",
    "\n",
    "X = rf_set.drop('Sales', axis = 1)\n",
    "y = rf_set['Sales']\n",
    "X_train,X_test,y_train,y_test = train_test_split(X,y,test_size=0.2,random_state=42)\n",
    "mask = y_train > 1200\n",
    "X_train = X_train[mask]\n",
    "y_train = y_train[mask]\n",
    "\n",
    "\n",
    "rf = RandomForestRegressor(random_state=42, \n",
    "                               max_depth=20, \n",
    "                               n_estimators=3000, \n",
    "                               min_samples_split=15,\n",
    "                               max_samples=0.7,\n",
    "                               max_features=8)\n",
    "rf.fit(X_train, y_train)\n",
    "preds = rf.predict(X_test)\n",
    "actuals = np.array(y_test)\n",
    "score = get_score(actuals, preds)\n",
    "print(f'Score: {score}')"
   ]
  },
  {
   "cell_type": "markdown",
   "metadata": {},
   "source": [
    "Fair enough, let's consider ourselves done fiddling and train a model on the full dataset! We'll do that in the next notebook: train_notebook.ipynb"
   ]
  }
 ],
 "metadata": {
  "kernelspec": {
   "display_name": "Python 3",
   "language": "python",
   "name": "python3"
  },
  "language_info": {
   "codemirror_mode": {
    "name": "ipython",
    "version": 3
   },
   "file_extension": ".py",
   "mimetype": "text/x-python",
   "name": "python",
   "nbconvert_exporter": "python",
   "pygments_lexer": "ipython3",
   "version": "3.8.5"
  }
 },
 "nbformat": 4,
 "nbformat_minor": 4
}
